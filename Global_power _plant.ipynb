{
 "cells": [
  {
   "cell_type": "markdown",
   "metadata": {},
   "source": [
    "# Evaluation Project - 4"
   ]
  },
  {
   "cell_type": "markdown",
   "metadata": {},
   "source": [
    "### Global Power Plant "
   ]
  },
  {
   "cell_type": "raw",
   "metadata": {},
   "source": [
    "Description\n",
    "\n",
    "The Global Power Plant Database is a comprehensive, open source database of power plants around the world. It centralizes power plant data to make it easier to navigate, compare and draw insights for one’s own analysis. The database covers approximately 35,000 power plants from 167 countries and includes thermal plants (e.g. coal, gas, oil, nuclear, biomass, waste, geothermal) and renewables (e.g. hydro, wind, solar). Each power plant is geolocated and entries contain information on plant capacity, generation, ownership, and fuel type. It will be continuously updated as data becomes available."
   ]
  },
  {
   "cell_type": "code",
   "execution_count": 7,
   "metadata": {},
   "outputs": [],
   "source": [
    "# Importing important libraries\n",
    "import pandas as pd\n",
    "import numpy as np\n",
    "import seaborn as sns\n",
    "import matplotlib.pyplot as plt\n",
    "%matplotlib inline\n",
    "import warnings\n",
    "warnings.filterwarnings('ignore')"
   ]
  },
  {
   "cell_type": "code",
   "execution_count": 8,
   "metadata": {},
   "outputs": [],
   "source": [
    "# Importing dataset\n",
    "df=pd.read_csv(r'https://raw.githubusercontent.com/wri/global-power-plant-database/master/source_databases_csv/database_IND.csv')"
   ]
  },
  {
   "cell_type": "code",
   "execution_count": 9,
   "metadata": {},
   "outputs": [
    {
     "data": {
      "text/html": [
       "<div>\n",
       "<style scoped>\n",
       "    .dataframe tbody tr th:only-of-type {\n",
       "        vertical-align: middle;\n",
       "    }\n",
       "\n",
       "    .dataframe tbody tr th {\n",
       "        vertical-align: top;\n",
       "    }\n",
       "\n",
       "    .dataframe thead th {\n",
       "        text-align: right;\n",
       "    }\n",
       "</style>\n",
       "<table border=\"1\" class=\"dataframe\">\n",
       "  <thead>\n",
       "    <tr style=\"text-align: right;\">\n",
       "      <th></th>\n",
       "      <th>country</th>\n",
       "      <th>country_long</th>\n",
       "      <th>name</th>\n",
       "      <th>gppd_idnr</th>\n",
       "      <th>capacity_mw</th>\n",
       "      <th>latitude</th>\n",
       "      <th>longitude</th>\n",
       "      <th>primary_fuel</th>\n",
       "      <th>other_fuel1</th>\n",
       "      <th>other_fuel2</th>\n",
       "      <th>...</th>\n",
       "      <th>geolocation_source</th>\n",
       "      <th>wepp_id</th>\n",
       "      <th>year_of_capacity_data</th>\n",
       "      <th>generation_gwh_2013</th>\n",
       "      <th>generation_gwh_2014</th>\n",
       "      <th>generation_gwh_2015</th>\n",
       "      <th>generation_gwh_2016</th>\n",
       "      <th>generation_gwh_2017</th>\n",
       "      <th>generation_data_source</th>\n",
       "      <th>estimated_generation_gwh</th>\n",
       "    </tr>\n",
       "  </thead>\n",
       "  <tbody>\n",
       "    <tr>\n",
       "      <th>0</th>\n",
       "      <td>IND</td>\n",
       "      <td>India</td>\n",
       "      <td>ACME Solar Tower</td>\n",
       "      <td>WRI1020239</td>\n",
       "      <td>2.5</td>\n",
       "      <td>28.1839</td>\n",
       "      <td>73.2407</td>\n",
       "      <td>Solar</td>\n",
       "      <td>NaN</td>\n",
       "      <td>NaN</td>\n",
       "      <td>...</td>\n",
       "      <td>National Renewable Energy Laboratory</td>\n",
       "      <td>NaN</td>\n",
       "      <td>NaN</td>\n",
       "      <td>NaN</td>\n",
       "      <td>NaN</td>\n",
       "      <td>NaN</td>\n",
       "      <td>NaN</td>\n",
       "      <td>NaN</td>\n",
       "      <td>NaN</td>\n",
       "      <td>NaN</td>\n",
       "    </tr>\n",
       "    <tr>\n",
       "      <th>1</th>\n",
       "      <td>IND</td>\n",
       "      <td>India</td>\n",
       "      <td>ADITYA CEMENT WORKS</td>\n",
       "      <td>WRI1019881</td>\n",
       "      <td>98.0</td>\n",
       "      <td>24.7663</td>\n",
       "      <td>74.6090</td>\n",
       "      <td>Coal</td>\n",
       "      <td>NaN</td>\n",
       "      <td>NaN</td>\n",
       "      <td>...</td>\n",
       "      <td>WRI</td>\n",
       "      <td>NaN</td>\n",
       "      <td>NaN</td>\n",
       "      <td>NaN</td>\n",
       "      <td>NaN</td>\n",
       "      <td>NaN</td>\n",
       "      <td>NaN</td>\n",
       "      <td>NaN</td>\n",
       "      <td>NaN</td>\n",
       "      <td>NaN</td>\n",
       "    </tr>\n",
       "    <tr>\n",
       "      <th>2</th>\n",
       "      <td>IND</td>\n",
       "      <td>India</td>\n",
       "      <td>AES Saurashtra Windfarms</td>\n",
       "      <td>WRI1026669</td>\n",
       "      <td>39.2</td>\n",
       "      <td>21.9038</td>\n",
       "      <td>69.3732</td>\n",
       "      <td>Wind</td>\n",
       "      <td>NaN</td>\n",
       "      <td>NaN</td>\n",
       "      <td>...</td>\n",
       "      <td>WRI</td>\n",
       "      <td>NaN</td>\n",
       "      <td>NaN</td>\n",
       "      <td>NaN</td>\n",
       "      <td>NaN</td>\n",
       "      <td>NaN</td>\n",
       "      <td>NaN</td>\n",
       "      <td>NaN</td>\n",
       "      <td>NaN</td>\n",
       "      <td>NaN</td>\n",
       "    </tr>\n",
       "  </tbody>\n",
       "</table>\n",
       "<p>3 rows × 25 columns</p>\n",
       "</div>"
      ],
      "text/plain": [
       "  country country_long                      name   gppd_idnr  capacity_mw  \\\n",
       "0     IND        India          ACME Solar Tower  WRI1020239          2.5   \n",
       "1     IND        India       ADITYA CEMENT WORKS  WRI1019881         98.0   \n",
       "2     IND        India  AES Saurashtra Windfarms  WRI1026669         39.2   \n",
       "\n",
       "   latitude  longitude primary_fuel other_fuel1 other_fuel2  ...  \\\n",
       "0   28.1839    73.2407        Solar         NaN         NaN  ...   \n",
       "1   24.7663    74.6090         Coal         NaN         NaN  ...   \n",
       "2   21.9038    69.3732         Wind         NaN         NaN  ...   \n",
       "\n",
       "                     geolocation_source  wepp_id year_of_capacity_data  \\\n",
       "0  National Renewable Energy Laboratory      NaN                   NaN   \n",
       "1                                   WRI      NaN                   NaN   \n",
       "2                                   WRI      NaN                   NaN   \n",
       "\n",
       "  generation_gwh_2013 generation_gwh_2014 generation_gwh_2015  \\\n",
       "0                 NaN                 NaN                 NaN   \n",
       "1                 NaN                 NaN                 NaN   \n",
       "2                 NaN                 NaN                 NaN   \n",
       "\n",
       "   generation_gwh_2016  generation_gwh_2017  generation_data_source  \\\n",
       "0                  NaN                  NaN                     NaN   \n",
       "1                  NaN                  NaN                     NaN   \n",
       "2                  NaN                  NaN                     NaN   \n",
       "\n",
       "   estimated_generation_gwh  \n",
       "0                       NaN  \n",
       "1                       NaN  \n",
       "2                       NaN  \n",
       "\n",
       "[3 rows x 25 columns]"
      ]
     },
     "execution_count": 9,
     "metadata": {},
     "output_type": "execute_result"
    }
   ],
   "source": [
    "#reading the dataset\n",
    "df.head(3)"
   ]
  },
  {
   "cell_type": "markdown",
   "metadata": {},
   "source": [
    "The target variables are  capacity_mw and primary fuel whic we need to predict"
   ]
  },
  {
   "cell_type": "code",
   "execution_count": 10,
   "metadata": {},
   "outputs": [
    {
     "data": {
      "text/plain": [
       "(908, 25)"
      ]
     },
     "execution_count": 10,
     "metadata": {},
     "output_type": "execute_result"
    }
   ],
   "source": [
    "#Getting the shapae of the dataset\n",
    "df.shape"
   ]
  },
  {
   "cell_type": "markdown",
   "metadata": {},
   "source": [
    "We have 908 rows and 908 columns in our dataset "
   ]
  },
  {
   "cell_type": "code",
   "execution_count": 11,
   "metadata": {},
   "outputs": [
    {
     "data": {
      "text/plain": [
       "Index(['country', 'country_long', 'name', 'gppd_idnr', 'capacity_mw',\n",
       "       'latitude', 'longitude', 'primary_fuel', 'other_fuel1', 'other_fuel2',\n",
       "       'other_fuel3', 'commissioning_year', 'owner', 'source', 'url',\n",
       "       'geolocation_source', 'wepp_id', 'year_of_capacity_data',\n",
       "       'generation_gwh_2013', 'generation_gwh_2014', 'generation_gwh_2015',\n",
       "       'generation_gwh_2016', 'generation_gwh_2017', 'generation_data_source',\n",
       "       'estimated_generation_gwh'],\n",
       "      dtype='object')"
      ]
     },
     "execution_count": 11,
     "metadata": {},
     "output_type": "execute_result"
    }
   ],
   "source": [
    "# Reading the column names\n",
    "df.columns"
   ]
  },
  {
   "cell_type": "raw",
   "metadata": {},
   "source": [
    "`country` (text): 3 character country code corresponding to the ISO 3166-1 alpha-3 specification [5]\n",
    "`country_long` (text): longer form of the country designation\n",
    "`name` (text): name or title of the power plant, generally in Romanized form\n",
    "`gppd_idnr` (text): 10 or 12 character identifier for the power plant\n",
    "`capacity_mw` (number): electrical generating capacity in megawatts\n",
    "`latitude` (number): geolocation in decimal degrees; WGS84 (EPSG:4326)\n",
    "`longitude` (number): geolocation in decimal degrees; WGS84 (EPSG:4326)\n",
    "`primary_fuel` (text): energy source used in primary electricity generation or export\n",
    "`other_fuel1` (text): energy source used in electricity generation or export\n",
    "`other_fuel2` (text): energy source used in electricity generation or export\n",
    "`other_fuel3` (text): energy source used in electricity generation or export\n",
    " `commissioning_year` (number): year of plant operation, weighted by unit-capacity when data is available\n",
    "`owner` (text): majority shareholder of the power plant, generally in Romanized form\n",
    "`source` (text): entity reporting the data; could be an organization, report, or document, generally in Romanized form\n",
    "`url` (text): web document corresponding to the `source` field\n",
    "`geolocation_source` (text): attribution for geolocation information\n",
    "`wepp_id` (text): a reference to a unique plant identifier in the widely-used PLATTS-WEPP database.\n",
    "`year_of_capacity_data` (number): year the capacity information was reported\n",
    "`generation_gwh_2013` (number): electricity generation in gigawatt-hours reported for the year 2013\n",
    "`generation_gwh_2014` (number): electricity generation in gigawatt-hours reported for the year 2014\n",
    "`generation_gwh_2015` (number): electricity generation in gigawatt-hours reported for the year 2015\n",
    "`generation_gwh_2016` (number): electricity generation in gigawatt-hours reported for the year 2016\n",
    "`generation_gwh_2017` (number): electricity generation in gigawatt-hours reported for the year 2017\n",
    "`generation_gwh_2018` (number): electricity generation in gigawatt-hours reported for the year 2018\n",
    "`generation_gwh_2019` (number): electricity generation in gigawatt-hours reported for the year 2019\n",
    "`generation_data_source` (text): attribution for the reported generation information\n",
    "`estimated_generation_gwh_2013` (number): estimated electricity generation in gigawatt-hours for the year 2013\n",
    "`estimated_generation_gwh_2014` (number): estimated electricity generation in gigawatt-hours for the year 2014 \n",
    "`estimated_generation_gwh_2015` (number): estimated electricity generation in gigawatt-hours for the year 2015 \n",
    "`estimated_generation_gwh_2016` (number): estimated electricity generation in gigawatt-hours for the year 2016 \n",
    "`estimated_generation_gwh_2017` (number): estimated electricity generation in gigawatt-hours for the year 2017 \n",
    "'estimated_generation_note_2013` (text): label of the model/method used to estimate generation for the year 2013\n",
    "`estimated_generation_note_2014` (text): label of the model/method used to estimate generation for the year 2014 \n",
    "`estimated_generation_note_2015` (text): label of the model/method used to estimate generation for the year 2015\n",
    "`estimated_generation_note_2016` (text): label of the model/method used to estimate generation for the year 2016\n",
    "`estimated_generation_note_2017` (text): label of the model/method used to estimate generation for the year 2017 "
   ]
  },
  {
   "cell_type": "code",
   "execution_count": 12,
   "metadata": {},
   "outputs": [
    {
     "name": "stdout",
     "output_type": "stream",
     "text": [
      "<class 'pandas.core.frame.DataFrame'>\n",
      "RangeIndex: 908 entries, 0 to 907\n",
      "Data columns (total 25 columns):\n",
      " #   Column                    Non-Null Count  Dtype  \n",
      "---  ------                    --------------  -----  \n",
      " 0   country                   908 non-null    object \n",
      " 1   country_long              908 non-null    object \n",
      " 2   name                      908 non-null    object \n",
      " 3   gppd_idnr                 908 non-null    object \n",
      " 4   capacity_mw               908 non-null    float64\n",
      " 5   latitude                  862 non-null    float64\n",
      " 6   longitude                 862 non-null    float64\n",
      " 7   primary_fuel              908 non-null    object \n",
      " 8   other_fuel1               199 non-null    object \n",
      " 9   other_fuel2               1 non-null      object \n",
      " 10  other_fuel3               0 non-null      float64\n",
      " 11  commissioning_year        528 non-null    float64\n",
      " 12  owner                     342 non-null    object \n",
      " 13  source                    908 non-null    object \n",
      " 14  url                       908 non-null    object \n",
      " 15  geolocation_source        889 non-null    object \n",
      " 16  wepp_id                   0 non-null      float64\n",
      " 17  year_of_capacity_data     520 non-null    float64\n",
      " 18  generation_gwh_2013       384 non-null    float64\n",
      " 19  generation_gwh_2014       401 non-null    float64\n",
      " 20  generation_gwh_2015       425 non-null    float64\n",
      " 21  generation_gwh_2016       437 non-null    float64\n",
      " 22  generation_gwh_2017       443 non-null    float64\n",
      " 23  generation_data_source    450 non-null    object \n",
      " 24  estimated_generation_gwh  0 non-null      float64\n",
      "dtypes: float64(13), object(12)\n",
      "memory usage: 177.5+ KB\n"
     ]
    }
   ],
   "source": [
    "df.info()"
   ]
  },
  {
   "cell_type": "raw",
   "metadata": {},
   "source": [
    "ownerThe dataset has following coulumns with float/ integer values \n",
    "viz capacity_mw, latitude,longitude,other_fuel3,comissioning_year,wepp_id,year_of_capacity_data,generation_gwh_2013 to 2017,extimated_generation_gwh\n",
    "Columns with object type : country,country_long,name,gppd_idnr,primary_fuel,other_fuel1,other_fuel2,owner,source,url,geolocation_source,generation_data_source"
   ]
  },
  {
   "cell_type": "code",
   "execution_count": 13,
   "metadata": {},
   "outputs": [
    {
     "data": {
      "text/plain": [
       "country                       0\n",
       "country_long                  0\n",
       "name                          0\n",
       "gppd_idnr                     0\n",
       "capacity_mw                   0\n",
       "latitude                     46\n",
       "longitude                    46\n",
       "primary_fuel                  0\n",
       "other_fuel1                 709\n",
       "other_fuel2                 907\n",
       "other_fuel3                 908\n",
       "commissioning_year          380\n",
       "owner                       566\n",
       "source                        0\n",
       "url                           0\n",
       "geolocation_source           19\n",
       "wepp_id                     908\n",
       "year_of_capacity_data       388\n",
       "generation_gwh_2013         524\n",
       "generation_gwh_2014         507\n",
       "generation_gwh_2015         483\n",
       "generation_gwh_2016         471\n",
       "generation_gwh_2017         465\n",
       "generation_data_source      458\n",
       "estimated_generation_gwh    908\n",
       "dtype: int64"
      ]
     },
     "execution_count": 13,
     "metadata": {},
     "output_type": "execute_result"
    }
   ],
   "source": [
    "df.isnull().sum()"
   ]
  },
  {
   "cell_type": "raw",
   "metadata": {},
   "source": [
    "The following columns contains NAN values viz other_fuel3,wepp_id,estimated_generation_gwh. We can drop these values"
   ]
  },
  {
   "cell_type": "code",
   "execution_count": 14,
   "metadata": {},
   "outputs": [],
   "source": [
    "#dropping unwanted columns\n",
    "df.drop(\"other_fuel3\",axis=1,inplace=True)\n",
    "df.drop(\"wepp_id\",axis=1,inplace=True)\n",
    "df.drop(\"estimated_generation_gwh\",axis=1,inplace=True)"
   ]
  },
  {
   "cell_type": "code",
   "execution_count": 15,
   "metadata": {},
   "outputs": [
    {
     "data": {
      "text/plain": [
       "country                     1\n",
       "country_long                1\n",
       "name                      908\n",
       "gppd_idnr                 908\n",
       "capacity_mw               365\n",
       "latitude                  837\n",
       "longitude                 828\n",
       "primary_fuel                8\n",
       "other_fuel1                 3\n",
       "other_fuel2                 1\n",
       "commissioning_year         73\n",
       "owner                     280\n",
       "source                    191\n",
       "url                       304\n",
       "geolocation_source          3\n",
       "year_of_capacity_data       1\n",
       "generation_gwh_2013       364\n",
       "generation_gwh_2014       374\n",
       "generation_gwh_2015       398\n",
       "generation_gwh_2016       405\n",
       "generation_gwh_2017       410\n",
       "generation_data_source      1\n",
       "dtype: int64"
      ]
     },
     "execution_count": 15,
     "metadata": {},
     "output_type": "execute_result"
    }
   ],
   "source": [
    "#Since there are more number of null values checking the values for unique count for remaining field\n",
    "df.nunique()"
   ]
  },
  {
   "cell_type": "raw",
   "metadata": {},
   "source": [
    "Unique function gives us the fields which contains only 1 unique values which can dropped going further\n",
    "fields which contains uniques values are country, county_long,year_of_capacity_data,generation_data_source"
   ]
  },
  {
   "cell_type": "code",
   "execution_count": 16,
   "metadata": {},
   "outputs": [],
   "source": [
    "# Dropping the columns which contains unique values\n",
    "df.drop(\"country\",axis=1,inplace=True)\n",
    "df.drop(\"country_long\",axis=1,inplace=True)\n",
    "df.drop(\"year_of_capacity_data\",axis=1,inplace=True)"
   ]
  },
  {
   "cell_type": "code",
   "execution_count": 17,
   "metadata": {},
   "outputs": [],
   "source": [
    "df.drop(\"other_fuel2\",axis=1,inplace=True)"
   ]
  },
  {
   "cell_type": "code",
   "execution_count": 18,
   "metadata": {},
   "outputs": [
    {
     "data": {
      "text/plain": [
       "capacity_mw            3.193257\n",
       "latitude              -0.143622\n",
       "longitude              1.100942\n",
       "commissioning_year    -1.056132\n",
       "generation_gwh_2013    3.416338\n",
       "generation_gwh_2014    3.357683\n",
       "generation_gwh_2015    3.679016\n",
       "generation_gwh_2016    3.524785\n",
       "generation_gwh_2017    3.576849\n",
       "dtype: float64"
      ]
     },
     "execution_count": 18,
     "metadata": {},
     "output_type": "execute_result"
    }
   ],
   "source": [
    "# Checking for the skewness in the dataset\n",
    "df.skew()"
   ]
  },
  {
   "cell_type": "code",
   "execution_count": 19,
   "metadata": {},
   "outputs": [
    {
     "data": {
      "text/plain": [
       "Index(['name', 'gppd_idnr', 'capacity_mw', 'latitude', 'longitude',\n",
       "       'primary_fuel', 'other_fuel1', 'commissioning_year', 'owner', 'source',\n",
       "       'url', 'geolocation_source', 'generation_gwh_2013',\n",
       "       'generation_gwh_2014', 'generation_gwh_2015', 'generation_gwh_2016',\n",
       "       'generation_gwh_2017', 'generation_data_source'],\n",
       "      dtype='object')"
      ]
     },
     "execution_count": 19,
     "metadata": {},
     "output_type": "execute_result"
    }
   ],
   "source": [
    "df.columns"
   ]
  },
  {
   "cell_type": "markdown",
   "metadata": {},
   "source": [
    "# EDA"
   ]
  },
  {
   "cell_type": "code",
   "execution_count": 20,
   "metadata": {},
   "outputs": [
    {
     "data": {
      "text/plain": [
       "WADI CEMENT PLANT                1\n",
       "Lakhmirwala Solar Power Plant    1\n",
       "KADRA                            1\n",
       "Mokal Wind Farm                  1\n",
       "METTUR                           1\n",
       "                                ..\n",
       "UKAI LBC                         1\n",
       "BELA NAGPUR                      1\n",
       "MUL GRETA                        1\n",
       "BIRSINGHPUR                      1\n",
       "Mokla Wind farm                  1\n",
       "Name: name, Length: 908, dtype: int64"
      ]
     },
     "execution_count": 20,
     "metadata": {},
     "output_type": "execute_result"
    }
   ],
   "source": [
    "#value counts for the remaining object type fields to check the relevance\n",
    "df['name'].value_counts()"
   ]
  },
  {
   "cell_type": "code",
   "execution_count": 21,
   "metadata": {},
   "outputs": [
    {
     "data": {
      "text/plain": [
       "IND0000360    1\n",
       "IND0000019    1\n",
       "IND0000174    1\n",
       "IND0000205    1\n",
       "WRI1026763    1\n",
       "             ..\n",
       "IND0000344    1\n",
       "WRI1026097    1\n",
       "IND0000040    1\n",
       "IND0000093    1\n",
       "WRI1026107    1\n",
       "Name: gppd_idnr, Length: 908, dtype: int64"
      ]
     },
     "execution_count": 21,
     "metadata": {},
     "output_type": "execute_result"
    }
   ],
   "source": [
    "df['gppd_idnr'].value_counts()"
   ]
  },
  {
   "cell_type": "code",
   "execution_count": 22,
   "metadata": {},
   "outputs": [
    {
     "data": {
      "text/plain": [
       "Jk Cement ltd                            4\n",
       "Sterling Agro Industries ltd.            4\n",
       "Acc Acc ltd                              4\n",
       "Government of India                      3\n",
       "Enercon India Ltd.                       3\n",
       "                                        ..\n",
       "Khaya Solar Projects Private Limited     1\n",
       "Rucha Soya Industries Limited            1\n",
       "Kohinoor Planet Construction Pvt. Ltd    1\n",
       "Sri Sugars ltd                           1\n",
       "Mukesh Gupta group                       1\n",
       "Name: owner, Length: 280, dtype: int64"
      ]
     },
     "execution_count": 22,
     "metadata": {},
     "output_type": "execute_result"
    }
   ],
   "source": [
    "df['owner'].value_counts()"
   ]
  },
  {
   "cell_type": "code",
   "execution_count": 23,
   "metadata": {},
   "outputs": [
    {
     "data": {
      "text/plain": [
       "Central Electricity Authority                520\n",
       "CDM                                          124\n",
       "Lancosola                                     10\n",
       "National Renewable Energy Laboratory           8\n",
       "National Thermal Power Corporation (NTPC)      6\n",
       "                                            ... \n",
       "Sunflag Co ltd                                 1\n",
       "Est vt Arind                                   1\n",
       "Sterling and Wilson                            1\n",
       "Power Private edM/Pdf                          1\n",
       "National And paper                             1\n",
       "Name: source, Length: 191, dtype: int64"
      ]
     },
     "execution_count": 23,
     "metadata": {},
     "output_type": "execute_result"
    }
   ],
   "source": [
    "df['source'].value_counts()"
   ]
  },
  {
   "cell_type": "code",
   "execution_count": 24,
   "metadata": {},
   "outputs": [
    {
     "data": {
      "text/plain": [
       "http://www.cea.nic.in/                                                              520\n",
       "http://www.lancosolar.com/pdfs/rajasthan-pv-project-details.pdf                       7\n",
       "http://www.ntpc.co.in                                                                 6\n",
       "http://viainfotech.biz/Biomass/theme5/document/green_market/REC-project-list.pdf      5\n",
       "http://www.azurepower.com                                                             4\n",
       "                                                                                   ... \n",
       "http://www.uttamgalva.com/                                                            1\n",
       "http://rswm.in/                                                                       1\n",
       "http://wbpdcl.co.in                                                                   1\n",
       "https://cdm.unfccc.int/Projects/DB/RWTUV1297334588.3/view                             1\n",
       "http://www.topworthgroup.com/                                                         1\n",
       "Name: url, Length: 304, dtype: int64"
      ]
     },
     "execution_count": 24,
     "metadata": {},
     "output_type": "execute_result"
    }
   ],
   "source": [
    "df['url'].value_counts()"
   ]
  },
  {
   "cell_type": "code",
   "execution_count": 25,
   "metadata": {},
   "outputs": [
    {
     "data": {
      "text/plain": [
       "WRI                                     766\n",
       "Industry About                          119\n",
       "National Renewable Energy Laboratory      4\n",
       "Name: geolocation_source, dtype: int64"
      ]
     },
     "execution_count": 25,
     "metadata": {},
     "output_type": "execute_result"
    }
   ],
   "source": [
    "df['geolocation_source'].value_counts()"
   ]
  },
  {
   "cell_type": "code",
   "execution_count": 26,
   "metadata": {},
   "outputs": [
    {
     "data": {
      "text/plain": [
       "Central Electricity Authority    450\n",
       "Name: generation_data_source, dtype: int64"
      ]
     },
     "execution_count": 26,
     "metadata": {},
     "output_type": "execute_result"
    }
   ],
   "source": [
    "df['generation_data_source'].value_counts()"
   ]
  },
  {
   "cell_type": "raw",
   "metadata": {},
   "source": [
    "The coumns viz name,gppd_idnr,owner and url can be dropped as it contains only the basic details of the particular powerplant which will not have any relevance in the modelling, hence dropping these columns\n",
    "Also the generation data source has only one source "
   ]
  },
  {
   "cell_type": "code",
   "execution_count": 27,
   "metadata": {},
   "outputs": [],
   "source": [
    "df.drop(\"name\",axis=1,inplace=True)\n",
    "df.drop(\"gppd_idnr\",axis=1,inplace=True)\n",
    "df.drop(\"url\",axis=1,inplace=True)\n",
    "df.drop(\"owner\",axis=1,inplace=True)"
   ]
  },
  {
   "cell_type": "code",
   "execution_count": 28,
   "metadata": {},
   "outputs": [],
   "source": [
    "df.drop(\"generation_data_source\",axis=1,inplace=True)"
   ]
  },
  {
   "cell_type": "code",
   "execution_count": 29,
   "metadata": {},
   "outputs": [
    {
     "data": {
      "text/html": [
       "<div>\n",
       "<style scoped>\n",
       "    .dataframe tbody tr th:only-of-type {\n",
       "        vertical-align: middle;\n",
       "    }\n",
       "\n",
       "    .dataframe tbody tr th {\n",
       "        vertical-align: top;\n",
       "    }\n",
       "\n",
       "    .dataframe thead th {\n",
       "        text-align: right;\n",
       "    }\n",
       "</style>\n",
       "<table border=\"1\" class=\"dataframe\">\n",
       "  <thead>\n",
       "    <tr style=\"text-align: right;\">\n",
       "      <th></th>\n",
       "      <th>capacity_mw</th>\n",
       "      <th>latitude</th>\n",
       "      <th>longitude</th>\n",
       "      <th>primary_fuel</th>\n",
       "      <th>other_fuel1</th>\n",
       "      <th>commissioning_year</th>\n",
       "      <th>source</th>\n",
       "      <th>geolocation_source</th>\n",
       "      <th>generation_gwh_2013</th>\n",
       "      <th>generation_gwh_2014</th>\n",
       "      <th>generation_gwh_2015</th>\n",
       "      <th>generation_gwh_2016</th>\n",
       "      <th>generation_gwh_2017</th>\n",
       "    </tr>\n",
       "  </thead>\n",
       "  <tbody>\n",
       "    <tr>\n",
       "      <th>0</th>\n",
       "      <td>2.5</td>\n",
       "      <td>28.1839</td>\n",
       "      <td>73.2407</td>\n",
       "      <td>Solar</td>\n",
       "      <td>NaN</td>\n",
       "      <td>2011.0</td>\n",
       "      <td>National Renewable Energy Laboratory</td>\n",
       "      <td>National Renewable Energy Laboratory</td>\n",
       "      <td>NaN</td>\n",
       "      <td>NaN</td>\n",
       "      <td>NaN</td>\n",
       "      <td>NaN</td>\n",
       "      <td>NaN</td>\n",
       "    </tr>\n",
       "    <tr>\n",
       "      <th>1</th>\n",
       "      <td>98.0</td>\n",
       "      <td>24.7663</td>\n",
       "      <td>74.6090</td>\n",
       "      <td>Coal</td>\n",
       "      <td>NaN</td>\n",
       "      <td>NaN</td>\n",
       "      <td>Ultratech Cement ltd</td>\n",
       "      <td>WRI</td>\n",
       "      <td>NaN</td>\n",
       "      <td>NaN</td>\n",
       "      <td>NaN</td>\n",
       "      <td>NaN</td>\n",
       "      <td>NaN</td>\n",
       "    </tr>\n",
       "    <tr>\n",
       "      <th>2</th>\n",
       "      <td>39.2</td>\n",
       "      <td>21.9038</td>\n",
       "      <td>69.3732</td>\n",
       "      <td>Wind</td>\n",
       "      <td>NaN</td>\n",
       "      <td>NaN</td>\n",
       "      <td>CDM</td>\n",
       "      <td>WRI</td>\n",
       "      <td>NaN</td>\n",
       "      <td>NaN</td>\n",
       "      <td>NaN</td>\n",
       "      <td>NaN</td>\n",
       "      <td>NaN</td>\n",
       "    </tr>\n",
       "    <tr>\n",
       "      <th>3</th>\n",
       "      <td>135.0</td>\n",
       "      <td>23.8712</td>\n",
       "      <td>91.3602</td>\n",
       "      <td>Gas</td>\n",
       "      <td>NaN</td>\n",
       "      <td>2004.0</td>\n",
       "      <td>Central Electricity Authority</td>\n",
       "      <td>WRI</td>\n",
       "      <td>631.777928</td>\n",
       "      <td>617.789264</td>\n",
       "      <td>843.747</td>\n",
       "      <td>886.004428</td>\n",
       "      <td>663.774500</td>\n",
       "    </tr>\n",
       "    <tr>\n",
       "      <th>4</th>\n",
       "      <td>1800.0</td>\n",
       "      <td>21.9603</td>\n",
       "      <td>82.4091</td>\n",
       "      <td>Coal</td>\n",
       "      <td>Oil</td>\n",
       "      <td>2015.0</td>\n",
       "      <td>Central Electricity Authority</td>\n",
       "      <td>WRI</td>\n",
       "      <td>1668.290000</td>\n",
       "      <td>3035.550000</td>\n",
       "      <td>5916.370</td>\n",
       "      <td>6243.000000</td>\n",
       "      <td>5385.579736</td>\n",
       "    </tr>\n",
       "  </tbody>\n",
       "</table>\n",
       "</div>"
      ],
      "text/plain": [
       "   capacity_mw  latitude  longitude primary_fuel other_fuel1  \\\n",
       "0          2.5   28.1839    73.2407        Solar         NaN   \n",
       "1         98.0   24.7663    74.6090         Coal         NaN   \n",
       "2         39.2   21.9038    69.3732         Wind         NaN   \n",
       "3        135.0   23.8712    91.3602          Gas         NaN   \n",
       "4       1800.0   21.9603    82.4091         Coal         Oil   \n",
       "\n",
       "   commissioning_year                                source  \\\n",
       "0              2011.0  National Renewable Energy Laboratory   \n",
       "1                 NaN                  Ultratech Cement ltd   \n",
       "2                 NaN                                   CDM   \n",
       "3              2004.0         Central Electricity Authority   \n",
       "4              2015.0         Central Electricity Authority   \n",
       "\n",
       "                     geolocation_source  generation_gwh_2013  \\\n",
       "0  National Renewable Energy Laboratory                  NaN   \n",
       "1                                   WRI                  NaN   \n",
       "2                                   WRI                  NaN   \n",
       "3                                   WRI           631.777928   \n",
       "4                                   WRI          1668.290000   \n",
       "\n",
       "   generation_gwh_2014  generation_gwh_2015  generation_gwh_2016  \\\n",
       "0                  NaN                  NaN                  NaN   \n",
       "1                  NaN                  NaN                  NaN   \n",
       "2                  NaN                  NaN                  NaN   \n",
       "3           617.789264              843.747           886.004428   \n",
       "4          3035.550000             5916.370          6243.000000   \n",
       "\n",
       "   generation_gwh_2017  \n",
       "0                  NaN  \n",
       "1                  NaN  \n",
       "2                  NaN  \n",
       "3           663.774500  \n",
       "4          5385.579736  "
      ]
     },
     "execution_count": 29,
     "metadata": {},
     "output_type": "execute_result"
    }
   ],
   "source": [
    "df.head()"
   ]
  },
  {
   "cell_type": "code",
   "execution_count": 30,
   "metadata": {},
   "outputs": [
    {
     "data": {
      "text/plain": [
       "<AxesSubplot:xlabel='commissioning_year', ylabel='Density'>"
      ]
     },
     "execution_count": 30,
     "metadata": {},
     "output_type": "execute_result"
    },
    {
     "data": {
      "image/png": "[encoded data removed]",
      "text/plain": [
       "<Figure size 432x288 with 1 Axes>"
      ]
     },
     "metadata": {
      "needs_background": "light"
     },
     "output_type": "display_data"
    }
   ],
   "source": [
    "sns.distplot(df['commissioning_year'])"
   ]
  },
  {
   "cell_type": "code",
   "execution_count": 31,
   "metadata": {},
   "outputs": [
    {
     "data": {
      "text/plain": [
       "2013.0    28\n",
       "2015.0    26\n",
       "2012.0    23\n",
       "2016.0    21\n",
       "2014.0    17\n",
       "          ..\n",
       "1939.0     1\n",
       "1927.0     1\n",
       "1949.0     1\n",
       "1956.0     1\n",
       "1969.0     1\n",
       "Name: commissioning_year, Length: 73, dtype: int64"
      ]
     },
     "execution_count": 31,
     "metadata": {},
     "output_type": "execute_result"
    }
   ],
   "source": [
    "df['commissioning_year'].value_counts()"
   ]
  },
  {
   "cell_type": "code",
   "execution_count": 32,
   "metadata": {},
   "outputs": [],
   "source": [
    "#We can extract the age of the power plant using the commissioning year column\n",
    "df['PP_age'] = 2022 - df['commissioning_year']"
   ]
  },
  {
   "cell_type": "code",
   "execution_count": 33,
   "metadata": {},
   "outputs": [
    {
     "data": {
      "text/html": [
       "<div>\n",
       "<style scoped>\n",
       "    .dataframe tbody tr th:only-of-type {\n",
       "        vertical-align: middle;\n",
       "    }\n",
       "\n",
       "    .dataframe tbody tr th {\n",
       "        vertical-align: top;\n",
       "    }\n",
       "\n",
       "    .dataframe thead th {\n",
       "        text-align: right;\n",
       "    }\n",
       "</style>\n",
       "<table border=\"1\" class=\"dataframe\">\n",
       "  <thead>\n",
       "    <tr style=\"text-align: right;\">\n",
       "      <th></th>\n",
       "      <th>capacity_mw</th>\n",
       "      <th>latitude</th>\n",
       "      <th>longitude</th>\n",
       "      <th>primary_fuel</th>\n",
       "      <th>other_fuel1</th>\n",
       "      <th>commissioning_year</th>\n",
       "      <th>source</th>\n",
       "      <th>geolocation_source</th>\n",
       "      <th>generation_gwh_2013</th>\n",
       "      <th>generation_gwh_2014</th>\n",
       "      <th>generation_gwh_2015</th>\n",
       "      <th>generation_gwh_2016</th>\n",
       "      <th>generation_gwh_2017</th>\n",
       "      <th>PP_age</th>\n",
       "    </tr>\n",
       "  </thead>\n",
       "  <tbody>\n",
       "    <tr>\n",
       "      <th>0</th>\n",
       "      <td>2.5</td>\n",
       "      <td>28.1839</td>\n",
       "      <td>73.2407</td>\n",
       "      <td>Solar</td>\n",
       "      <td>NaN</td>\n",
       "      <td>2011.0</td>\n",
       "      <td>National Renewable Energy Laboratory</td>\n",
       "      <td>National Renewable Energy Laboratory</td>\n",
       "      <td>NaN</td>\n",
       "      <td>NaN</td>\n",
       "      <td>NaN</td>\n",
       "      <td>NaN</td>\n",
       "      <td>NaN</td>\n",
       "      <td>11.0</td>\n",
       "    </tr>\n",
       "    <tr>\n",
       "      <th>1</th>\n",
       "      <td>98.0</td>\n",
       "      <td>24.7663</td>\n",
       "      <td>74.6090</td>\n",
       "      <td>Coal</td>\n",
       "      <td>NaN</td>\n",
       "      <td>NaN</td>\n",
       "      <td>Ultratech Cement ltd</td>\n",
       "      <td>WRI</td>\n",
       "      <td>NaN</td>\n",
       "      <td>NaN</td>\n",
       "      <td>NaN</td>\n",
       "      <td>NaN</td>\n",
       "      <td>NaN</td>\n",
       "      <td>NaN</td>\n",
       "    </tr>\n",
       "    <tr>\n",
       "      <th>2</th>\n",
       "      <td>39.2</td>\n",
       "      <td>21.9038</td>\n",
       "      <td>69.3732</td>\n",
       "      <td>Wind</td>\n",
       "      <td>NaN</td>\n",
       "      <td>NaN</td>\n",
       "      <td>CDM</td>\n",
       "      <td>WRI</td>\n",
       "      <td>NaN</td>\n",
       "      <td>NaN</td>\n",
       "      <td>NaN</td>\n",
       "      <td>NaN</td>\n",
       "      <td>NaN</td>\n",
       "      <td>NaN</td>\n",
       "    </tr>\n",
       "    <tr>\n",
       "      <th>3</th>\n",
       "      <td>135.0</td>\n",
       "      <td>23.8712</td>\n",
       "      <td>91.3602</td>\n",
       "      <td>Gas</td>\n",
       "      <td>NaN</td>\n",
       "      <td>2004.0</td>\n",
       "      <td>Central Electricity Authority</td>\n",
       "      <td>WRI</td>\n",
       "      <td>631.777928</td>\n",
       "      <td>617.789264</td>\n",
       "      <td>843.747</td>\n",
       "      <td>886.004428</td>\n",
       "      <td>663.774500</td>\n",
       "      <td>18.0</td>\n",
       "    </tr>\n",
       "    <tr>\n",
       "      <th>4</th>\n",
       "      <td>1800.0</td>\n",
       "      <td>21.9603</td>\n",
       "      <td>82.4091</td>\n",
       "      <td>Coal</td>\n",
       "      <td>Oil</td>\n",
       "      <td>2015.0</td>\n",
       "      <td>Central Electricity Authority</td>\n",
       "      <td>WRI</td>\n",
       "      <td>1668.290000</td>\n",
       "      <td>3035.550000</td>\n",
       "      <td>5916.370</td>\n",
       "      <td>6243.000000</td>\n",
       "      <td>5385.579736</td>\n",
       "      <td>7.0</td>\n",
       "    </tr>\n",
       "  </tbody>\n",
       "</table>\n",
       "</div>"
      ],
      "text/plain": [
       "   capacity_mw  latitude  longitude primary_fuel other_fuel1  \\\n",
       "0          2.5   28.1839    73.2407        Solar         NaN   \n",
       "1         98.0   24.7663    74.6090         Coal         NaN   \n",
       "2         39.2   21.9038    69.3732         Wind         NaN   \n",
       "3        135.0   23.8712    91.3602          Gas         NaN   \n",
       "4       1800.0   21.9603    82.4091         Coal         Oil   \n",
       "\n",
       "   commissioning_year                                source  \\\n",
       "0              2011.0  National Renewable Energy Laboratory   \n",
       "1                 NaN                  Ultratech Cement ltd   \n",
       "2                 NaN                                   CDM   \n",
       "3              2004.0         Central Electricity Authority   \n",
       "4              2015.0         Central Electricity Authority   \n",
       "\n",
       "                     geolocation_source  generation_gwh_2013  \\\n",
       "0  National Renewable Energy Laboratory                  NaN   \n",
       "1                                   WRI                  NaN   \n",
       "2                                   WRI                  NaN   \n",
       "3                                   WRI           631.777928   \n",
       "4                                   WRI          1668.290000   \n",
       "\n",
       "   generation_gwh_2014  generation_gwh_2015  generation_gwh_2016  \\\n",
       "0                  NaN                  NaN                  NaN   \n",
       "1                  NaN                  NaN                  NaN   \n",
       "2                  NaN                  NaN                  NaN   \n",
       "3           617.789264              843.747           886.004428   \n",
       "4          3035.550000             5916.370          6243.000000   \n",
       "\n",
       "   generation_gwh_2017  PP_age  \n",
       "0                  NaN    11.0  \n",
       "1                  NaN     NaN  \n",
       "2                  NaN     NaN  \n",
       "3           663.774500    18.0  \n",
       "4          5385.579736     7.0  "
      ]
     },
     "execution_count": 33,
     "metadata": {},
     "output_type": "execute_result"
    }
   ],
   "source": [
    "df.head(5)"
   ]
  },
  {
   "cell_type": "code",
   "execution_count": 34,
   "metadata": {},
   "outputs": [],
   "source": [
    "#We can drop 'commissioning_year' column now \n",
    "df.drop(\"commissioning_year\",axis=1,inplace=True)"
   ]
  },
  {
   "cell_type": "code",
   "execution_count": 35,
   "metadata": {},
   "outputs": [
    {
     "data": {
      "text/plain": [
       "Index(['capacity_mw', 'latitude', 'longitude', 'primary_fuel', 'other_fuel1',\n",
       "       'source', 'geolocation_source', 'generation_gwh_2013',\n",
       "       'generation_gwh_2014', 'generation_gwh_2015', 'generation_gwh_2016',\n",
       "       'generation_gwh_2017', 'PP_age'],\n",
       "      dtype='object')"
      ]
     },
     "execution_count": 35,
     "metadata": {},
     "output_type": "execute_result"
    }
   ],
   "source": [
    "df.columns"
   ]
  },
  {
   "cell_type": "code",
   "execution_count": 36,
   "metadata": {},
   "outputs": [
    {
     "data": {
      "text/plain": [
       "capacity_mw              0\n",
       "latitude                46\n",
       "longitude               46\n",
       "primary_fuel             0\n",
       "other_fuel1            709\n",
       "source                   0\n",
       "geolocation_source      19\n",
       "generation_gwh_2013    524\n",
       "generation_gwh_2014    507\n",
       "generation_gwh_2015    483\n",
       "generation_gwh_2016    471\n",
       "generation_gwh_2017    465\n",
       "PP_age                 380\n",
       "dtype: int64"
      ]
     },
     "execution_count": 36,
     "metadata": {},
     "output_type": "execute_result"
    }
   ],
   "source": [
    "df.isnull().sum()"
   ]
  },
  {
   "cell_type": "markdown",
   "metadata": {},
   "source": [
    "## Handling NA Value\n",
    "#We see lot of null values in the dataset.Let sfill the null values with the mean/median method."
   ]
  },
  {
   "cell_type": "code",
   "execution_count": 37,
   "metadata": {},
   "outputs": [],
   "source": [
    "#Lets check for the skewness and data distribution before filling up the null values"
   ]
  },
  {
   "cell_type": "code",
   "execution_count": 38,
   "metadata": {},
   "outputs": [
    {
     "data": {
      "text/plain": [
       "<AxesSubplot:xlabel='latitude', ylabel='Density'>"
      ]
     },
     "execution_count": 38,
     "metadata": {},
     "output_type": "execute_result"
    },
    {
     "data": {
      "image/png": "[encoded data removed]",
      "text/plain": [
       "<Figure size 432x288 with 1 Axes>"
      ]
     },
     "metadata": {
      "needs_background": "light"
     },
     "output_type": "display_data"
    }
   ],
   "source": [
    "#Checking distribution of latitude\n",
    "sns.distplot(df['latitude'])"
   ]
  },
  {
   "cell_type": "code",
   "execution_count": 39,
   "metadata": {},
   "outputs": [],
   "source": [
    "#The data looks normally distributed.The null values can be filled with mean values\n",
    "df['latitude']=df['latitude'].fillna(df['latitude'].mean())"
   ]
  },
  {
   "cell_type": "code",
   "execution_count": 40,
   "metadata": {},
   "outputs": [
    {
     "data": {
      "text/plain": [
       "<AxesSubplot:xlabel='longitude', ylabel='Density'>"
      ]
     },
     "execution_count": 40,
     "metadata": {},
     "output_type": "execute_result"
    },
    {
     "data": {
      "image/png": "[encoded data removed]",
      "text/plain": [
       "<Figure size 432x288 with 1 Axes>"
      ]
     },
     "metadata": {
      "needs_background": "light"
     },
     "output_type": "display_data"
    }
   ],
   "source": [
    "# Checking distribution of longitude\n",
    "sns.distplot(df['longitude'])"
   ]
  },
  {
   "cell_type": "code",
   "execution_count": 41,
   "metadata": {},
   "outputs": [],
   "source": [
    "#The data is left skewed.Filling Na values using median method\n",
    "df['longitude']=df['longitude'].fillna(df['longitude'].median())"
   ]
  },
  {
   "cell_type": "code",
   "execution_count": 42,
   "metadata": {},
   "outputs": [
    {
     "data": {
      "text/plain": [
       "<AxesSubplot:xlabel='other_fuel1', ylabel='count'>"
      ]
     },
     "execution_count": 42,
     "metadata": {},
     "output_type": "execute_result"
    },
    {
     "data": {
      "image/png": "[encoded data removed]",
      "text/plain": [
       "<Figure size 432x288 with 1 Axes>"
      ]
     },
     "metadata": {
      "needs_background": "light"
     },
     "output_type": "display_data"
    }
   ],
   "source": [
    "#checking frequency for the fuel coumn\n",
    "\n",
    "sns.countplot(df['other_fuel1'])"
   ]
  },
  {
   "cell_type": "code",
   "execution_count": 43,
   "metadata": {},
   "outputs": [],
   "source": [
    "#Filling na values using mode \n",
    "df['other_fuel1']=df['other_fuel1'].fillna(df['other_fuel1'].mode()[0])"
   ]
  },
  {
   "cell_type": "code",
   "execution_count": 44,
   "metadata": {},
   "outputs": [
    {
     "data": {
      "text/plain": [
       "<AxesSubplot:xlabel='geolocation_source', ylabel='count'>"
      ]
     },
     "execution_count": 44,
     "metadata": {},
     "output_type": "execute_result"
    },
    {
     "data": {
      "image/png": "[encoded data removed]",
      "text/plain": [
       "<Figure size 432x288 with 1 Axes>"
      ]
     },
     "metadata": {
      "needs_background": "light"
     },
     "output_type": "display_data"
    }
   ],
   "source": [
    "#checking frequency for the fuel coumn\n",
    "\n",
    "sns.countplot(df['geolocation_source'])"
   ]
  },
  {
   "cell_type": "code",
   "execution_count": 45,
   "metadata": {},
   "outputs": [],
   "source": [
    "#filling na values with mode\n",
    "df['geolocation_source']=df['geolocation_source'].fillna(df['geolocation_source'].mode()[0])"
   ]
  },
  {
   "cell_type": "code",
   "execution_count": 46,
   "metadata": {},
   "outputs": [
    {
     "data": {
      "text/plain": [
       "<AxesSubplot:xlabel='generation_gwh_2013', ylabel='Density'>"
      ]
     },
     "execution_count": 46,
     "metadata": {},
     "output_type": "execute_result"
    },
    {
     "data": {
      "image/png": "[encoded data removed]",
      "text/plain": [
       "<Figure size 432x288 with 1 Axes>"
      ]
     },
     "metadata": {
      "needs_background": "light"
     },
     "output_type": "display_data"
    }
   ],
   "source": [
    "#Checking distribution of generation_gwh\n",
    "sns.distplot(df['generation_gwh_2013'])"
   ]
  },
  {
   "cell_type": "code",
   "execution_count": 47,
   "metadata": {},
   "outputs": [
    {
     "data": {
      "text/plain": [
       "<AxesSubplot:xlabel='generation_gwh_2014', ylabel='Density'>"
      ]
     },
     "execution_count": 47,
     "metadata": {},
     "output_type": "execute_result"
    },
    {
     "data": {
      "image/png": "[encoded data removed]",
      "text/plain": [
       "<Figure size 432x288 with 1 Axes>"
      ]
     },
     "metadata": {
      "needs_background": "light"
     },
     "output_type": "display_data"
    }
   ],
   "source": [
    "sns.distplot(df['generation_gwh_2014'])"
   ]
  },
  {
   "cell_type": "code",
   "execution_count": 48,
   "metadata": {},
   "outputs": [
    {
     "data": {
      "text/plain": [
       "<AxesSubplot:xlabel='generation_gwh_2015', ylabel='Density'>"
      ]
     },
     "execution_count": 48,
     "metadata": {},
     "output_type": "execute_result"
    },
    {
     "data": {
      "image/png": "[encoded data removed]",
      "text/plain": [
       "<Figure size 432x288 with 1 Axes>"
      ]
     },
     "metadata": {
      "needs_background": "light"
     },
     "output_type": "display_data"
    }
   ],
   "source": [
    "sns.distplot(df['generation_gwh_2015'])"
   ]
  },
  {
   "cell_type": "code",
   "execution_count": 49,
   "metadata": {},
   "outputs": [
    {
     "data": {
      "text/plain": [
       "<AxesSubplot:xlabel='generation_gwh_2016', ylabel='Density'>"
      ]
     },
     "execution_count": 49,
     "metadata": {},
     "output_type": "execute_result"
    },
    {
     "data": {
      "image/png": "[encoded data removed]",
      "text/plain": [
       "<Figure size 432x288 with 1 Axes>"
      ]
     },
     "metadata": {
      "needs_background": "light"
     },
     "output_type": "display_data"
    }
   ],
   "source": [
    "sns.distplot(df['generation_gwh_2016'])"
   ]
  },
  {
   "cell_type": "code",
   "execution_count": 50,
   "metadata": {},
   "outputs": [
    {
     "data": {
      "text/plain": [
       "<AxesSubplot:xlabel='generation_gwh_2017', ylabel='Density'>"
      ]
     },
     "execution_count": 50,
     "metadata": {},
     "output_type": "execute_result"
    },
    {
     "data": {
      "image/png": "[encoded data removed]",
      "text/plain": [
       "<Figure size 432x288 with 1 Axes>"
      ]
     },
     "metadata": {
      "needs_background": "light"
     },
     "output_type": "display_data"
    }
   ],
   "source": [
    "sns.distplot(df['generation_gwh_2017'])"
   ]
  },
  {
   "cell_type": "code",
   "execution_count": 51,
   "metadata": {},
   "outputs": [],
   "source": [
    "# As there is a skewness in the data distribution for generation_gwh.Filling na values using median\n",
    "df['generation_gwh_2014']=df['generation_gwh_2014'].fillna(df['generation_gwh_2014'].median())\n",
    "df['generation_gwh_2015']=df['generation_gwh_2015'].fillna(df['generation_gwh_2015'].median())\n",
    "df['generation_gwh_2016']=df['generation_gwh_2016'].fillna(df['generation_gwh_2016'].median())\n",
    "df['generation_gwh_2017']=df['generation_gwh_2017'].fillna(df['generation_gwh_2017'].median())"
   ]
  },
  {
   "cell_type": "code",
   "execution_count": 52,
   "metadata": {},
   "outputs": [],
   "source": [
    " df['PP_age']=df['PP_age'].fillna(df['PP_age'].median())"
   ]
  },
  {
   "cell_type": "code",
   "execution_count": 53,
   "metadata": {},
   "outputs": [],
   "source": [
    "df['generation_gwh_2013']=df['generation_gwh_2013'].fillna(df['generation_gwh_2013'].median())"
   ]
  },
  {
   "cell_type": "code",
   "execution_count": 54,
   "metadata": {},
   "outputs": [
    {
     "data": {
      "text/plain": [
       "capacity_mw            0\n",
       "latitude               0\n",
       "longitude              0\n",
       "primary_fuel           0\n",
       "other_fuel1            0\n",
       "source                 0\n",
       "geolocation_source     0\n",
       "generation_gwh_2013    0\n",
       "generation_gwh_2014    0\n",
       "generation_gwh_2015    0\n",
       "generation_gwh_2016    0\n",
       "generation_gwh_2017    0\n",
       "PP_age                 0\n",
       "dtype: int64"
      ]
     },
     "execution_count": 54,
     "metadata": {},
     "output_type": "execute_result"
    }
   ],
   "source": [
    "df.isnull().sum()"
   ]
  },
  {
   "cell_type": "code",
   "execution_count": 55,
   "metadata": {},
   "outputs": [
    {
     "data": {
      "text/plain": [
       "<AxesSubplot:>"
      ]
     },
     "execution_count": 55,
     "metadata": {},
     "output_type": "execute_result"
    },
    {
     "data": {
      "image/png": "[encoded data removed]",
      "text/plain": [
       "<Figure size 432x288 with 2 Axes>"
      ]
     },
     "metadata": {
      "needs_background": "light"
     },
     "output_type": "display_data"
    }
   ],
   "source": [
    "sns.heatmap(df.isnull())"
   ]
  },
  {
   "cell_type": "raw",
   "metadata": {},
   "source": [
    "There are no null values in the dataset so we can proceed with the next steps"
   ]
  },
  {
   "cell_type": "code",
   "execution_count": 56,
   "metadata": {},
   "outputs": [
    {
     "data": {
      "text/html": [
       "<div>\n",
       "<style scoped>\n",
       "    .dataframe tbody tr th:only-of-type {\n",
       "        vertical-align: middle;\n",
       "    }\n",
       "\n",
       "    .dataframe tbody tr th {\n",
       "        vertical-align: top;\n",
       "    }\n",
       "\n",
       "    .dataframe thead th {\n",
       "        text-align: right;\n",
       "    }\n",
       "</style>\n",
       "<table border=\"1\" class=\"dataframe\">\n",
       "  <thead>\n",
       "    <tr style=\"text-align: right;\">\n",
       "      <th></th>\n",
       "      <th>capacity_mw</th>\n",
       "      <th>latitude</th>\n",
       "      <th>longitude</th>\n",
       "      <th>primary_fuel</th>\n",
       "      <th>other_fuel1</th>\n",
       "      <th>source</th>\n",
       "      <th>geolocation_source</th>\n",
       "      <th>generation_gwh_2013</th>\n",
       "      <th>generation_gwh_2014</th>\n",
       "      <th>generation_gwh_2015</th>\n",
       "      <th>generation_gwh_2016</th>\n",
       "      <th>generation_gwh_2017</th>\n",
       "      <th>PP_age</th>\n",
       "    </tr>\n",
       "  </thead>\n",
       "  <tbody>\n",
       "    <tr>\n",
       "      <th>0</th>\n",
       "      <td>2.5</td>\n",
       "      <td>28.1839</td>\n",
       "      <td>73.2407</td>\n",
       "      <td>Solar</td>\n",
       "      <td>Oil</td>\n",
       "      <td>National Renewable Energy Laboratory</td>\n",
       "      <td>National Renewable Energy Laboratory</td>\n",
       "      <td>797.063475</td>\n",
       "      <td>805.760000</td>\n",
       "      <td>701.02725</td>\n",
       "      <td>716.728350</td>\n",
       "      <td>807.601700</td>\n",
       "      <td>11.0</td>\n",
       "    </tr>\n",
       "    <tr>\n",
       "      <th>1</th>\n",
       "      <td>98.0</td>\n",
       "      <td>24.7663</td>\n",
       "      <td>74.6090</td>\n",
       "      <td>Coal</td>\n",
       "      <td>Oil</td>\n",
       "      <td>Ultratech Cement ltd</td>\n",
       "      <td>WRI</td>\n",
       "      <td>797.063475</td>\n",
       "      <td>805.760000</td>\n",
       "      <td>701.02725</td>\n",
       "      <td>716.728350</td>\n",
       "      <td>807.601700</td>\n",
       "      <td>22.0</td>\n",
       "    </tr>\n",
       "    <tr>\n",
       "      <th>2</th>\n",
       "      <td>39.2</td>\n",
       "      <td>21.9038</td>\n",
       "      <td>69.3732</td>\n",
       "      <td>Wind</td>\n",
       "      <td>Oil</td>\n",
       "      <td>CDM</td>\n",
       "      <td>WRI</td>\n",
       "      <td>797.063475</td>\n",
       "      <td>805.760000</td>\n",
       "      <td>701.02725</td>\n",
       "      <td>716.728350</td>\n",
       "      <td>807.601700</td>\n",
       "      <td>22.0</td>\n",
       "    </tr>\n",
       "    <tr>\n",
       "      <th>3</th>\n",
       "      <td>135.0</td>\n",
       "      <td>23.8712</td>\n",
       "      <td>91.3602</td>\n",
       "      <td>Gas</td>\n",
       "      <td>Oil</td>\n",
       "      <td>Central Electricity Authority</td>\n",
       "      <td>WRI</td>\n",
       "      <td>631.777928</td>\n",
       "      <td>617.789264</td>\n",
       "      <td>843.74700</td>\n",
       "      <td>886.004428</td>\n",
       "      <td>663.774500</td>\n",
       "      <td>18.0</td>\n",
       "    </tr>\n",
       "    <tr>\n",
       "      <th>4</th>\n",
       "      <td>1800.0</td>\n",
       "      <td>21.9603</td>\n",
       "      <td>82.4091</td>\n",
       "      <td>Coal</td>\n",
       "      <td>Oil</td>\n",
       "      <td>Central Electricity Authority</td>\n",
       "      <td>WRI</td>\n",
       "      <td>1668.290000</td>\n",
       "      <td>3035.550000</td>\n",
       "      <td>5916.37000</td>\n",
       "      <td>6243.000000</td>\n",
       "      <td>5385.579736</td>\n",
       "      <td>7.0</td>\n",
       "    </tr>\n",
       "  </tbody>\n",
       "</table>\n",
       "</div>"
      ],
      "text/plain": [
       "   capacity_mw  latitude  longitude primary_fuel other_fuel1  \\\n",
       "0          2.5   28.1839    73.2407        Solar         Oil   \n",
       "1         98.0   24.7663    74.6090         Coal         Oil   \n",
       "2         39.2   21.9038    69.3732         Wind         Oil   \n",
       "3        135.0   23.8712    91.3602          Gas         Oil   \n",
       "4       1800.0   21.9603    82.4091         Coal         Oil   \n",
       "\n",
       "                                 source                    geolocation_source  \\\n",
       "0  National Renewable Energy Laboratory  National Renewable Energy Laboratory   \n",
       "1                  Ultratech Cement ltd                                   WRI   \n",
       "2                                   CDM                                   WRI   \n",
       "3         Central Electricity Authority                                   WRI   \n",
       "4         Central Electricity Authority                                   WRI   \n",
       "\n",
       "   generation_gwh_2013  generation_gwh_2014  generation_gwh_2015  \\\n",
       "0           797.063475           805.760000            701.02725   \n",
       "1           797.063475           805.760000            701.02725   \n",
       "2           797.063475           805.760000            701.02725   \n",
       "3           631.777928           617.789264            843.74700   \n",
       "4          1668.290000          3035.550000           5916.37000   \n",
       "\n",
       "   generation_gwh_2016  generation_gwh_2017  PP_age  \n",
       "0           716.728350           807.601700    11.0  \n",
       "1           716.728350           807.601700    22.0  \n",
       "2           716.728350           807.601700    22.0  \n",
       "3           886.004428           663.774500    18.0  \n",
       "4          6243.000000          5385.579736     7.0  "
      ]
     },
     "execution_count": 56,
     "metadata": {},
     "output_type": "execute_result"
    }
   ],
   "source": [
    "df.head()"
   ]
  },
  {
   "cell_type": "code",
   "execution_count": 57,
   "metadata": {},
   "outputs": [
    {
     "data": {
      "text/html": [
       "<div>\n",
       "<style scoped>\n",
       "    .dataframe tbody tr th:only-of-type {\n",
       "        vertical-align: middle;\n",
       "    }\n",
       "\n",
       "    .dataframe tbody tr th {\n",
       "        vertical-align: top;\n",
       "    }\n",
       "\n",
       "    .dataframe thead th {\n",
       "        text-align: right;\n",
       "    }\n",
       "</style>\n",
       "<table border=\"1\" class=\"dataframe\">\n",
       "  <thead>\n",
       "    <tr style=\"text-align: right;\">\n",
       "      <th></th>\n",
       "      <th>capacity_mw</th>\n",
       "      <th>latitude</th>\n",
       "      <th>longitude</th>\n",
       "      <th>generation_gwh_2013</th>\n",
       "      <th>generation_gwh_2014</th>\n",
       "      <th>generation_gwh_2015</th>\n",
       "      <th>generation_gwh_2016</th>\n",
       "      <th>generation_gwh_2017</th>\n",
       "      <th>PP_age</th>\n",
       "    </tr>\n",
       "  </thead>\n",
       "  <tbody>\n",
       "    <tr>\n",
       "      <th>count</th>\n",
       "      <td>908.000000</td>\n",
       "      <td>908.000000</td>\n",
       "      <td>908.000000</td>\n",
       "      <td>908.000000</td>\n",
       "      <td>908.000000</td>\n",
       "      <td>908.000000</td>\n",
       "      <td>908.000000</td>\n",
       "      <td>908.000000</td>\n",
       "      <td>908.000000</td>\n",
       "    </tr>\n",
       "    <tr>\n",
       "      <th>mean</th>\n",
       "      <td>321.046378</td>\n",
       "      <td>21.196189</td>\n",
       "      <td>77.410936</td>\n",
       "      <td>1434.383254</td>\n",
       "      <td>1518.830440</td>\n",
       "      <td>1502.838018</td>\n",
       "      <td>1552.807503</td>\n",
       "      <td>1648.790766</td>\n",
       "      <td>23.816079</td>\n",
       "    </tr>\n",
       "    <tr>\n",
       "      <th>std</th>\n",
       "      <td>580.221767</td>\n",
       "      <td>6.088110</td>\n",
       "      <td>4.783873</td>\n",
       "      <td>2575.982982</td>\n",
       "      <td>2783.474774</td>\n",
       "      <td>2985.277178</td>\n",
       "      <td>3006.880849</td>\n",
       "      <td>3047.577626</td>\n",
       "      <td>13.085938</td>\n",
       "    </tr>\n",
       "    <tr>\n",
       "      <th>min</th>\n",
       "      <td>0.000000</td>\n",
       "      <td>8.168900</td>\n",
       "      <td>68.644700</td>\n",
       "      <td>0.000000</td>\n",
       "      <td>0.000000</td>\n",
       "      <td>0.000000</td>\n",
       "      <td>0.000000</td>\n",
       "      <td>0.000000</td>\n",
       "      <td>4.000000</td>\n",
       "    </tr>\n",
       "    <tr>\n",
       "      <th>25%</th>\n",
       "      <td>16.837500</td>\n",
       "      <td>17.057825</td>\n",
       "      <td>74.390250</td>\n",
       "      <td>797.063475</td>\n",
       "      <td>805.760000</td>\n",
       "      <td>701.027250</td>\n",
       "      <td>716.728350</td>\n",
       "      <td>807.601700</td>\n",
       "      <td>19.000000</td>\n",
       "    </tr>\n",
       "    <tr>\n",
       "      <th>50%</th>\n",
       "      <td>60.000000</td>\n",
       "      <td>21.278850</td>\n",
       "      <td>76.719250</td>\n",
       "      <td>797.063475</td>\n",
       "      <td>805.760000</td>\n",
       "      <td>701.027250</td>\n",
       "      <td>716.728350</td>\n",
       "      <td>807.601700</td>\n",
       "      <td>22.000000</td>\n",
       "    </tr>\n",
       "    <tr>\n",
       "      <th>75%</th>\n",
       "      <td>388.125000</td>\n",
       "      <td>25.183775</td>\n",
       "      <td>79.211600</td>\n",
       "      <td>797.063475</td>\n",
       "      <td>805.760000</td>\n",
       "      <td>701.027250</td>\n",
       "      <td>716.728350</td>\n",
       "      <td>807.601700</td>\n",
       "      <td>25.000000</td>\n",
       "    </tr>\n",
       "    <tr>\n",
       "      <th>max</th>\n",
       "      <td>4760.000000</td>\n",
       "      <td>34.649000</td>\n",
       "      <td>95.408000</td>\n",
       "      <td>27586.200000</td>\n",
       "      <td>28127.000000</td>\n",
       "      <td>30539.000000</td>\n",
       "      <td>30015.000000</td>\n",
       "      <td>35116.000000</td>\n",
       "      <td>95.000000</td>\n",
       "    </tr>\n",
       "  </tbody>\n",
       "</table>\n",
       "</div>"
      ],
      "text/plain": [
       "       capacity_mw    latitude   longitude  generation_gwh_2013  \\\n",
       "count   908.000000  908.000000  908.000000           908.000000   \n",
       "mean    321.046378   21.196189   77.410936          1434.383254   \n",
       "std     580.221767    6.088110    4.783873          2575.982982   \n",
       "min       0.000000    8.168900   68.644700             0.000000   \n",
       "25%      16.837500   17.057825   74.390250           797.063475   \n",
       "50%      60.000000   21.278850   76.719250           797.063475   \n",
       "75%     388.125000   25.183775   79.211600           797.063475   \n",
       "max    4760.000000   34.649000   95.408000         27586.200000   \n",
       "\n",
       "       generation_gwh_2014  generation_gwh_2015  generation_gwh_2016  \\\n",
       "count           908.000000           908.000000           908.000000   \n",
       "mean           1518.830440          1502.838018          1552.807503   \n",
       "std            2783.474774          2985.277178          3006.880849   \n",
       "min               0.000000             0.000000             0.000000   \n",
       "25%             805.760000           701.027250           716.728350   \n",
       "50%             805.760000           701.027250           716.728350   \n",
       "75%             805.760000           701.027250           716.728350   \n",
       "max           28127.000000         30539.000000         30015.000000   \n",
       "\n",
       "       generation_gwh_2017      PP_age  \n",
       "count           908.000000  908.000000  \n",
       "mean           1648.790766   23.816079  \n",
       "std            3047.577626   13.085938  \n",
       "min               0.000000    4.000000  \n",
       "25%             807.601700   19.000000  \n",
       "50%             807.601700   22.000000  \n",
       "75%             807.601700   25.000000  \n",
       "max           35116.000000   95.000000  "
      ]
     },
     "execution_count": 57,
     "metadata": {},
     "output_type": "execute_result"
    }
   ],
   "source": [
    "#Lets check the statistics of the dataset\n",
    "df.describe()"
   ]
  },
  {
   "cell_type": "markdown",
   "metadata": {},
   "source": [
    "# Skewness"
   ]
  },
  {
   "cell_type": "code",
   "execution_count": 58,
   "metadata": {},
   "outputs": [
    {
     "data": {
      "text/html": [
       "<div>\n",
       "<style scoped>\n",
       "    .dataframe tbody tr th:only-of-type {\n",
       "        vertical-align: middle;\n",
       "    }\n",
       "\n",
       "    .dataframe tbody tr th {\n",
       "        vertical-align: top;\n",
       "    }\n",
       "\n",
       "    .dataframe thead th {\n",
       "        text-align: right;\n",
       "    }\n",
       "</style>\n",
       "<table border=\"1\" class=\"dataframe\">\n",
       "  <thead>\n",
       "    <tr style=\"text-align: right;\">\n",
       "      <th></th>\n",
       "      <th>primary_fuel</th>\n",
       "      <th>other_fuel1</th>\n",
       "      <th>source</th>\n",
       "      <th>geolocation_source</th>\n",
       "    </tr>\n",
       "  </thead>\n",
       "  <tbody>\n",
       "    <tr>\n",
       "      <th>0</th>\n",
       "      <td>Solar</td>\n",
       "      <td>Oil</td>\n",
       "      <td>National Renewable Energy Laboratory</td>\n",
       "      <td>National Renewable Energy Laboratory</td>\n",
       "    </tr>\n",
       "    <tr>\n",
       "      <th>1</th>\n",
       "      <td>Coal</td>\n",
       "      <td>Oil</td>\n",
       "      <td>Ultratech Cement ltd</td>\n",
       "      <td>WRI</td>\n",
       "    </tr>\n",
       "    <tr>\n",
       "      <th>2</th>\n",
       "      <td>Wind</td>\n",
       "      <td>Oil</td>\n",
       "      <td>CDM</td>\n",
       "      <td>WRI</td>\n",
       "    </tr>\n",
       "    <tr>\n",
       "      <th>3</th>\n",
       "      <td>Gas</td>\n",
       "      <td>Oil</td>\n",
       "      <td>Central Electricity Authority</td>\n",
       "      <td>WRI</td>\n",
       "    </tr>\n",
       "    <tr>\n",
       "      <th>4</th>\n",
       "      <td>Coal</td>\n",
       "      <td>Oil</td>\n",
       "      <td>Central Electricity Authority</td>\n",
       "      <td>WRI</td>\n",
       "    </tr>\n",
       "    <tr>\n",
       "      <th>...</th>\n",
       "      <td>...</td>\n",
       "      <td>...</td>\n",
       "      <td>...</td>\n",
       "      <td>...</td>\n",
       "    </tr>\n",
       "    <tr>\n",
       "      <th>903</th>\n",
       "      <td>Coal</td>\n",
       "      <td>Oil</td>\n",
       "      <td>Central Electricity Authority</td>\n",
       "      <td>WRI</td>\n",
       "    </tr>\n",
       "    <tr>\n",
       "      <th>904</th>\n",
       "      <td>Solar</td>\n",
       "      <td>Oil</td>\n",
       "      <td>Karnataka Power Corporation Limited</td>\n",
       "      <td>Industry About</td>\n",
       "    </tr>\n",
       "    <tr>\n",
       "      <th>905</th>\n",
       "      <td>Wind</td>\n",
       "      <td>Oil</td>\n",
       "      <td>CDM</td>\n",
       "      <td>WRI</td>\n",
       "    </tr>\n",
       "    <tr>\n",
       "      <th>906</th>\n",
       "      <td>Coal</td>\n",
       "      <td>Oil</td>\n",
       "      <td>Hindustan Zinc ltd</td>\n",
       "      <td>WRI</td>\n",
       "    </tr>\n",
       "    <tr>\n",
       "      <th>907</th>\n",
       "      <td>Wind</td>\n",
       "      <td>Oil</td>\n",
       "      <td>CDM</td>\n",
       "      <td>WRI</td>\n",
       "    </tr>\n",
       "  </tbody>\n",
       "</table>\n",
       "<p>908 rows × 4 columns</p>\n",
       "</div>"
      ],
      "text/plain": [
       "    primary_fuel other_fuel1                                source  \\\n",
       "0          Solar         Oil  National Renewable Energy Laboratory   \n",
       "1           Coal         Oil                  Ultratech Cement ltd   \n",
       "2           Wind         Oil                                   CDM   \n",
       "3            Gas         Oil         Central Electricity Authority   \n",
       "4           Coal         Oil         Central Electricity Authority   \n",
       "..           ...         ...                                   ...   \n",
       "903         Coal         Oil         Central Electricity Authority   \n",
       "904        Solar         Oil   Karnataka Power Corporation Limited   \n",
       "905         Wind         Oil                                   CDM   \n",
       "906         Coal         Oil                    Hindustan Zinc ltd   \n",
       "907         Wind         Oil                                   CDM   \n",
       "\n",
       "                       geolocation_source  \n",
       "0    National Renewable Energy Laboratory  \n",
       "1                                     WRI  \n",
       "2                                     WRI  \n",
       "3                                     WRI  \n",
       "4                                     WRI  \n",
       "..                                    ...  \n",
       "903                                   WRI  \n",
       "904                        Industry About  \n",
       "905                                   WRI  \n",
       "906                                   WRI  \n",
       "907                                   WRI  \n",
       "\n",
       "[908 rows x 4 columns]"
      ]
     },
     "execution_count": 58,
     "metadata": {},
     "output_type": "execute_result"
    }
   ],
   "source": [
    "#Separating numerical & categorical columns from the dataset\n",
    "categorical_col1=df[['primary_fuel', 'other_fuel1', 'source', 'geolocation_source']]\n",
    "categorical_col1"
   ]
  },
  {
   "cell_type": "code",
   "execution_count": 59,
   "metadata": {},
   "outputs": [],
   "source": [
    "# Checking for numerical columns\n",
    "numerical_col1=df[['capacity_mw', 'latitude', 'longitude', 'generation_gwh_2013', 'generation_gwh_2014', 'generation_gwh_2015', 'generation_gwh_2016', 'generation_gwh_2017', 'PP_age']]"
   ]
  },
  {
   "cell_type": "code",
   "execution_count": 60,
   "metadata": {},
   "outputs": [
    {
     "data": {
      "text/html": [
       "<div>\n",
       "<style scoped>\n",
       "    .dataframe tbody tr th:only-of-type {\n",
       "        vertical-align: middle;\n",
       "    }\n",
       "\n",
       "    .dataframe tbody tr th {\n",
       "        vertical-align: top;\n",
       "    }\n",
       "\n",
       "    .dataframe thead th {\n",
       "        text-align: right;\n",
       "    }\n",
       "</style>\n",
       "<table border=\"1\" class=\"dataframe\">\n",
       "  <thead>\n",
       "    <tr style=\"text-align: right;\">\n",
       "      <th></th>\n",
       "      <th>capacity_mw</th>\n",
       "      <th>latitude</th>\n",
       "      <th>longitude</th>\n",
       "      <th>generation_gwh_2013</th>\n",
       "      <th>generation_gwh_2014</th>\n",
       "      <th>generation_gwh_2015</th>\n",
       "      <th>generation_gwh_2016</th>\n",
       "      <th>generation_gwh_2017</th>\n",
       "      <th>PP_age</th>\n",
       "    </tr>\n",
       "  </thead>\n",
       "  <tbody>\n",
       "    <tr>\n",
       "      <th>0</th>\n",
       "      <td>2.5</td>\n",
       "      <td>28.1839</td>\n",
       "      <td>73.2407</td>\n",
       "      <td>797.063475</td>\n",
       "      <td>805.760000</td>\n",
       "      <td>701.027250</td>\n",
       "      <td>716.728350</td>\n",
       "      <td>807.601700</td>\n",
       "      <td>11.0</td>\n",
       "    </tr>\n",
       "    <tr>\n",
       "      <th>1</th>\n",
       "      <td>98.0</td>\n",
       "      <td>24.7663</td>\n",
       "      <td>74.6090</td>\n",
       "      <td>797.063475</td>\n",
       "      <td>805.760000</td>\n",
       "      <td>701.027250</td>\n",
       "      <td>716.728350</td>\n",
       "      <td>807.601700</td>\n",
       "      <td>22.0</td>\n",
       "    </tr>\n",
       "    <tr>\n",
       "      <th>2</th>\n",
       "      <td>39.2</td>\n",
       "      <td>21.9038</td>\n",
       "      <td>69.3732</td>\n",
       "      <td>797.063475</td>\n",
       "      <td>805.760000</td>\n",
       "      <td>701.027250</td>\n",
       "      <td>716.728350</td>\n",
       "      <td>807.601700</td>\n",
       "      <td>22.0</td>\n",
       "    </tr>\n",
       "    <tr>\n",
       "      <th>3</th>\n",
       "      <td>135.0</td>\n",
       "      <td>23.8712</td>\n",
       "      <td>91.3602</td>\n",
       "      <td>631.777928</td>\n",
       "      <td>617.789264</td>\n",
       "      <td>843.747000</td>\n",
       "      <td>886.004428</td>\n",
       "      <td>663.774500</td>\n",
       "      <td>18.0</td>\n",
       "    </tr>\n",
       "    <tr>\n",
       "      <th>4</th>\n",
       "      <td>1800.0</td>\n",
       "      <td>21.9603</td>\n",
       "      <td>82.4091</td>\n",
       "      <td>1668.290000</td>\n",
       "      <td>3035.550000</td>\n",
       "      <td>5916.370000</td>\n",
       "      <td>6243.000000</td>\n",
       "      <td>5385.579736</td>\n",
       "      <td>7.0</td>\n",
       "    </tr>\n",
       "    <tr>\n",
       "      <th>...</th>\n",
       "      <td>...</td>\n",
       "      <td>...</td>\n",
       "      <td>...</td>\n",
       "      <td>...</td>\n",
       "      <td>...</td>\n",
       "      <td>...</td>\n",
       "      <td>...</td>\n",
       "      <td>...</td>\n",
       "      <td>...</td>\n",
       "    </tr>\n",
       "    <tr>\n",
       "      <th>903</th>\n",
       "      <td>1600.0</td>\n",
       "      <td>16.2949</td>\n",
       "      <td>77.3568</td>\n",
       "      <td>797.063475</td>\n",
       "      <td>805.760000</td>\n",
       "      <td>0.994875</td>\n",
       "      <td>233.596650</td>\n",
       "      <td>865.400000</td>\n",
       "      <td>6.0</td>\n",
       "    </tr>\n",
       "    <tr>\n",
       "      <th>904</th>\n",
       "      <td>3.0</td>\n",
       "      <td>12.8932</td>\n",
       "      <td>78.1654</td>\n",
       "      <td>797.063475</td>\n",
       "      <td>805.760000</td>\n",
       "      <td>701.027250</td>\n",
       "      <td>716.728350</td>\n",
       "      <td>807.601700</td>\n",
       "      <td>22.0</td>\n",
       "    </tr>\n",
       "    <tr>\n",
       "      <th>905</th>\n",
       "      <td>25.5</td>\n",
       "      <td>15.2758</td>\n",
       "      <td>75.5811</td>\n",
       "      <td>797.063475</td>\n",
       "      <td>805.760000</td>\n",
       "      <td>701.027250</td>\n",
       "      <td>716.728350</td>\n",
       "      <td>807.601700</td>\n",
       "      <td>22.0</td>\n",
       "    </tr>\n",
       "    <tr>\n",
       "      <th>906</th>\n",
       "      <td>80.0</td>\n",
       "      <td>24.3500</td>\n",
       "      <td>73.7477</td>\n",
       "      <td>797.063475</td>\n",
       "      <td>805.760000</td>\n",
       "      <td>701.027250</td>\n",
       "      <td>716.728350</td>\n",
       "      <td>807.601700</td>\n",
       "      <td>22.0</td>\n",
       "    </tr>\n",
       "    <tr>\n",
       "      <th>907</th>\n",
       "      <td>16.5</td>\n",
       "      <td>9.9344</td>\n",
       "      <td>77.4768</td>\n",
       "      <td>797.063475</td>\n",
       "      <td>805.760000</td>\n",
       "      <td>701.027250</td>\n",
       "      <td>716.728350</td>\n",
       "      <td>807.601700</td>\n",
       "      <td>22.0</td>\n",
       "    </tr>\n",
       "  </tbody>\n",
       "</table>\n",
       "<p>908 rows × 9 columns</p>\n",
       "</div>"
      ],
      "text/plain": [
       "     capacity_mw  latitude  longitude  generation_gwh_2013  \\\n",
       "0            2.5   28.1839    73.2407           797.063475   \n",
       "1           98.0   24.7663    74.6090           797.063475   \n",
       "2           39.2   21.9038    69.3732           797.063475   \n",
       "3          135.0   23.8712    91.3602           631.777928   \n",
       "4         1800.0   21.9603    82.4091          1668.290000   \n",
       "..           ...       ...        ...                  ...   \n",
       "903       1600.0   16.2949    77.3568           797.063475   \n",
       "904          3.0   12.8932    78.1654           797.063475   \n",
       "905         25.5   15.2758    75.5811           797.063475   \n",
       "906         80.0   24.3500    73.7477           797.063475   \n",
       "907         16.5    9.9344    77.4768           797.063475   \n",
       "\n",
       "     generation_gwh_2014  generation_gwh_2015  generation_gwh_2016  \\\n",
       "0             805.760000           701.027250           716.728350   \n",
       "1             805.760000           701.027250           716.728350   \n",
       "2             805.760000           701.027250           716.728350   \n",
       "3             617.789264           843.747000           886.004428   \n",
       "4            3035.550000          5916.370000          6243.000000   \n",
       "..                   ...                  ...                  ...   \n",
       "903           805.760000             0.994875           233.596650   \n",
       "904           805.760000           701.027250           716.728350   \n",
       "905           805.760000           701.027250           716.728350   \n",
       "906           805.760000           701.027250           716.728350   \n",
       "907           805.760000           701.027250           716.728350   \n",
       "\n",
       "     generation_gwh_2017  PP_age  \n",
       "0             807.601700    11.0  \n",
       "1             807.601700    22.0  \n",
       "2             807.601700    22.0  \n",
       "3             663.774500    18.0  \n",
       "4            5385.579736     7.0  \n",
       "..                   ...     ...  \n",
       "903           865.400000     6.0  \n",
       "904           807.601700    22.0  \n",
       "905           807.601700    22.0  \n",
       "906           807.601700    22.0  \n",
       "907           807.601700    22.0  \n",
       "\n",
       "[908 rows x 9 columns]"
      ]
     },
     "execution_count": 60,
     "metadata": {},
     "output_type": "execute_result"
    }
   ],
   "source": [
    "numerical_col1"
   ]
  },
  {
   "cell_type": "code",
   "execution_count": 61,
   "metadata": {},
   "outputs": [
    {
     "data": {
      "image/png": "[encoded data removed]",
      "text/plain": [
       "<Figure size 1440x1800 with 9 Axes>"
      ]
     },
     "metadata": {},
     "output_type": "display_data"
    }
   ],
   "source": [
    "# Checking how the data has been distributed in each column\n",
    "\n",
    "plt.figure(figsize=(20,25),facecolor='white')\n",
    "plotnumber=1\n",
    "for col in numerical_col1:\n",
    "    if plotnumber<=9:\n",
    "        ax=plt.subplot(3,3,plotnumber)\n",
    "        sns.distplot(df[col],color='g')\n",
    "        plt.xlabel(col,fontsize=20)\n",
    "    plotnumber+=1\n",
    "plt.tight_layout()"
   ]
  },
  {
   "cell_type": "code",
   "execution_count": 62,
   "metadata": {},
   "outputs": [],
   "source": [
    "#All the numerical columns have skewness except for latitude\n"
   ]
  },
  {
   "cell_type": "code",
   "execution_count": 63,
   "metadata": {},
   "outputs": [
    {
     "data": {
      "image/png": "[encoded data removed]",
      "text/plain": [
       "<Figure size 1440x1800 with 9 Axes>"
      ]
     },
     "metadata": {},
     "output_type": "display_data"
    }
   ],
   "source": [
    "# Checking for outliers\n",
    "plt.figure(figsize=(20,25),facecolor='white')\n",
    "plotnumber=1\n",
    "for col in numerical_col1:\n",
    "    if plotnumber<=9:\n",
    "        ax=plt.subplot(3,3,plotnumber)\n",
    "        sns.boxplot(df[col],color='g')\n",
    "        plt.xlabel(col,fontsize=20)\n",
    "    plotnumber+=1\n",
    "plt.tight_layout()\n"
   ]
  },
  {
   "cell_type": "code",
   "execution_count": 64,
   "metadata": {},
   "outputs": [],
   "source": [
    "#We see many outliers in the dataset"
   ]
  },
  {
   "cell_type": "code",
   "execution_count": 65,
   "metadata": {},
   "outputs": [],
   "source": [
    "# Features having outliers\n",
    "features_with_outliers = df[['longitude','generation_gwh_2013','generation_gwh_2014','generation_gwh_2015','generation_gwh_2016','generation_gwh_2017','PP_age']]"
   ]
  },
  {
   "cell_type": "code",
   "execution_count": 66,
   "metadata": {},
   "outputs": [
    {
     "data": {
      "text/plain": [
       "array([[0.87220856, 0.24754473, 0.25632114, ..., 0.27820854, 0.27617103,\n",
       "        0.97991772],\n",
       "       [0.58602743, 0.24754473, 0.25632114, ..., 0.27820854, 0.27617103,\n",
       "        0.13885747],\n",
       "       [1.68109953, 0.24754473, 0.25632114, ..., 0.27820854, 0.27617103,\n",
       "        0.13885747],\n",
       "       ...,\n",
       "       [0.38271188, 0.24754473, 0.25632114, ..., 0.27820854, 0.27617103,\n",
       "        0.13885747],\n",
       "       [0.76616907, 0.24754473, 0.25632114, ..., 0.27820854, 0.27617103,\n",
       "        0.13885747],\n",
       "       [0.01377542, 0.24754473, 0.25632114, ..., 0.27820854, 0.27617103,\n",
       "        0.13885747]])"
      ]
     },
     "execution_count": 66,
     "metadata": {},
     "output_type": "execute_result"
    }
   ],
   "source": [
    "# Using zscore to remove outliers\n",
    "from scipy.stats import zscore\n",
    "z=np.abs(zscore(features_with_outliers))\n",
    "z"
   ]
  },
  {
   "cell_type": "code",
   "execution_count": 67,
   "metadata": {},
   "outputs": [
    {
     "data": {
      "text/html": [
       "<div>\n",
       "<style scoped>\n",
       "    .dataframe tbody tr th:only-of-type {\n",
       "        vertical-align: middle;\n",
       "    }\n",
       "\n",
       "    .dataframe tbody tr th {\n",
       "        vertical-align: top;\n",
       "    }\n",
       "\n",
       "    .dataframe thead th {\n",
       "        text-align: right;\n",
       "    }\n",
       "</style>\n",
       "<table border=\"1\" class=\"dataframe\">\n",
       "  <thead>\n",
       "    <tr style=\"text-align: right;\">\n",
       "      <th></th>\n",
       "      <th>capacity_mw</th>\n",
       "      <th>latitude</th>\n",
       "      <th>longitude</th>\n",
       "      <th>primary_fuel</th>\n",
       "      <th>other_fuel1</th>\n",
       "      <th>source</th>\n",
       "      <th>geolocation_source</th>\n",
       "      <th>generation_gwh_2013</th>\n",
       "      <th>generation_gwh_2014</th>\n",
       "      <th>generation_gwh_2015</th>\n",
       "      <th>generation_gwh_2016</th>\n",
       "      <th>generation_gwh_2017</th>\n",
       "      <th>PP_age</th>\n",
       "    </tr>\n",
       "  </thead>\n",
       "  <tbody>\n",
       "    <tr>\n",
       "      <th>0</th>\n",
       "      <td>2.5</td>\n",
       "      <td>28.1839</td>\n",
       "      <td>73.2407</td>\n",
       "      <td>Solar</td>\n",
       "      <td>Oil</td>\n",
       "      <td>National Renewable Energy Laboratory</td>\n",
       "      <td>National Renewable Energy Laboratory</td>\n",
       "      <td>797.063475</td>\n",
       "      <td>805.760000</td>\n",
       "      <td>701.027250</td>\n",
       "      <td>716.728350</td>\n",
       "      <td>807.601700</td>\n",
       "      <td>11.0</td>\n",
       "    </tr>\n",
       "    <tr>\n",
       "      <th>1</th>\n",
       "      <td>98.0</td>\n",
       "      <td>24.7663</td>\n",
       "      <td>74.6090</td>\n",
       "      <td>Coal</td>\n",
       "      <td>Oil</td>\n",
       "      <td>Ultratech Cement ltd</td>\n",
       "      <td>WRI</td>\n",
       "      <td>797.063475</td>\n",
       "      <td>805.760000</td>\n",
       "      <td>701.027250</td>\n",
       "      <td>716.728350</td>\n",
       "      <td>807.601700</td>\n",
       "      <td>22.0</td>\n",
       "    </tr>\n",
       "    <tr>\n",
       "      <th>2</th>\n",
       "      <td>39.2</td>\n",
       "      <td>21.9038</td>\n",
       "      <td>69.3732</td>\n",
       "      <td>Wind</td>\n",
       "      <td>Oil</td>\n",
       "      <td>CDM</td>\n",
       "      <td>WRI</td>\n",
       "      <td>797.063475</td>\n",
       "      <td>805.760000</td>\n",
       "      <td>701.027250</td>\n",
       "      <td>716.728350</td>\n",
       "      <td>807.601700</td>\n",
       "      <td>22.0</td>\n",
       "    </tr>\n",
       "    <tr>\n",
       "      <th>3</th>\n",
       "      <td>135.0</td>\n",
       "      <td>23.8712</td>\n",
       "      <td>91.3602</td>\n",
       "      <td>Gas</td>\n",
       "      <td>Oil</td>\n",
       "      <td>Central Electricity Authority</td>\n",
       "      <td>WRI</td>\n",
       "      <td>631.777928</td>\n",
       "      <td>617.789264</td>\n",
       "      <td>843.747000</td>\n",
       "      <td>886.004428</td>\n",
       "      <td>663.774500</td>\n",
       "      <td>18.0</td>\n",
       "    </tr>\n",
       "    <tr>\n",
       "      <th>4</th>\n",
       "      <td>1800.0</td>\n",
       "      <td>21.9603</td>\n",
       "      <td>82.4091</td>\n",
       "      <td>Coal</td>\n",
       "      <td>Oil</td>\n",
       "      <td>Central Electricity Authority</td>\n",
       "      <td>WRI</td>\n",
       "      <td>1668.290000</td>\n",
       "      <td>3035.550000</td>\n",
       "      <td>5916.370000</td>\n",
       "      <td>6243.000000</td>\n",
       "      <td>5385.579736</td>\n",
       "      <td>7.0</td>\n",
       "    </tr>\n",
       "    <tr>\n",
       "      <th>...</th>\n",
       "      <td>...</td>\n",
       "      <td>...</td>\n",
       "      <td>...</td>\n",
       "      <td>...</td>\n",
       "      <td>...</td>\n",
       "      <td>...</td>\n",
       "      <td>...</td>\n",
       "      <td>...</td>\n",
       "      <td>...</td>\n",
       "      <td>...</td>\n",
       "      <td>...</td>\n",
       "      <td>...</td>\n",
       "      <td>...</td>\n",
       "    </tr>\n",
       "    <tr>\n",
       "      <th>903</th>\n",
       "      <td>1600.0</td>\n",
       "      <td>16.2949</td>\n",
       "      <td>77.3568</td>\n",
       "      <td>Coal</td>\n",
       "      <td>Oil</td>\n",
       "      <td>Central Electricity Authority</td>\n",
       "      <td>WRI</td>\n",
       "      <td>797.063475</td>\n",
       "      <td>805.760000</td>\n",
       "      <td>0.994875</td>\n",
       "      <td>233.596650</td>\n",
       "      <td>865.400000</td>\n",
       "      <td>6.0</td>\n",
       "    </tr>\n",
       "    <tr>\n",
       "      <th>904</th>\n",
       "      <td>3.0</td>\n",
       "      <td>12.8932</td>\n",
       "      <td>78.1654</td>\n",
       "      <td>Solar</td>\n",
       "      <td>Oil</td>\n",
       "      <td>Karnataka Power Corporation Limited</td>\n",
       "      <td>Industry About</td>\n",
       "      <td>797.063475</td>\n",
       "      <td>805.760000</td>\n",
       "      <td>701.027250</td>\n",
       "      <td>716.728350</td>\n",
       "      <td>807.601700</td>\n",
       "      <td>22.0</td>\n",
       "    </tr>\n",
       "    <tr>\n",
       "      <th>905</th>\n",
       "      <td>25.5</td>\n",
       "      <td>15.2758</td>\n",
       "      <td>75.5811</td>\n",
       "      <td>Wind</td>\n",
       "      <td>Oil</td>\n",
       "      <td>CDM</td>\n",
       "      <td>WRI</td>\n",
       "      <td>797.063475</td>\n",
       "      <td>805.760000</td>\n",
       "      <td>701.027250</td>\n",
       "      <td>716.728350</td>\n",
       "      <td>807.601700</td>\n",
       "      <td>22.0</td>\n",
       "    </tr>\n",
       "    <tr>\n",
       "      <th>906</th>\n",
       "      <td>80.0</td>\n",
       "      <td>24.3500</td>\n",
       "      <td>73.7477</td>\n",
       "      <td>Coal</td>\n",
       "      <td>Oil</td>\n",
       "      <td>Hindustan Zinc ltd</td>\n",
       "      <td>WRI</td>\n",
       "      <td>797.063475</td>\n",
       "      <td>805.760000</td>\n",
       "      <td>701.027250</td>\n",
       "      <td>716.728350</td>\n",
       "      <td>807.601700</td>\n",
       "      <td>22.0</td>\n",
       "    </tr>\n",
       "    <tr>\n",
       "      <th>907</th>\n",
       "      <td>16.5</td>\n",
       "      <td>9.9344</td>\n",
       "      <td>77.4768</td>\n",
       "      <td>Wind</td>\n",
       "      <td>Oil</td>\n",
       "      <td>CDM</td>\n",
       "      <td>WRI</td>\n",
       "      <td>797.063475</td>\n",
       "      <td>805.760000</td>\n",
       "      <td>701.027250</td>\n",
       "      <td>716.728350</td>\n",
       "      <td>807.601700</td>\n",
       "      <td>22.0</td>\n",
       "    </tr>\n",
       "  </tbody>\n",
       "</table>\n",
       "<p>852 rows × 13 columns</p>\n",
       "</div>"
      ],
      "text/plain": [
       "     capacity_mw  latitude  longitude primary_fuel other_fuel1  \\\n",
       "0            2.5   28.1839    73.2407        Solar         Oil   \n",
       "1           98.0   24.7663    74.6090         Coal         Oil   \n",
       "2           39.2   21.9038    69.3732         Wind         Oil   \n",
       "3          135.0   23.8712    91.3602          Gas         Oil   \n",
       "4         1800.0   21.9603    82.4091         Coal         Oil   \n",
       "..           ...       ...        ...          ...         ...   \n",
       "903       1600.0   16.2949    77.3568         Coal         Oil   \n",
       "904          3.0   12.8932    78.1654        Solar         Oil   \n",
       "905         25.5   15.2758    75.5811         Wind         Oil   \n",
       "906         80.0   24.3500    73.7477         Coal         Oil   \n",
       "907         16.5    9.9344    77.4768         Wind         Oil   \n",
       "\n",
       "                                   source  \\\n",
       "0    National Renewable Energy Laboratory   \n",
       "1                    Ultratech Cement ltd   \n",
       "2                                     CDM   \n",
       "3           Central Electricity Authority   \n",
       "4           Central Electricity Authority   \n",
       "..                                    ...   \n",
       "903         Central Electricity Authority   \n",
       "904   Karnataka Power Corporation Limited   \n",
       "905                                   CDM   \n",
       "906                    Hindustan Zinc ltd   \n",
       "907                                   CDM   \n",
       "\n",
       "                       geolocation_source  generation_gwh_2013  \\\n",
       "0    National Renewable Energy Laboratory           797.063475   \n",
       "1                                     WRI           797.063475   \n",
       "2                                     WRI           797.063475   \n",
       "3                                     WRI           631.777928   \n",
       "4                                     WRI          1668.290000   \n",
       "..                                    ...                  ...   \n",
       "903                                   WRI           797.063475   \n",
       "904                        Industry About           797.063475   \n",
       "905                                   WRI           797.063475   \n",
       "906                                   WRI           797.063475   \n",
       "907                                   WRI           797.063475   \n",
       "\n",
       "     generation_gwh_2014  generation_gwh_2015  generation_gwh_2016  \\\n",
       "0             805.760000           701.027250           716.728350   \n",
       "1             805.760000           701.027250           716.728350   \n",
       "2             805.760000           701.027250           716.728350   \n",
       "3             617.789264           843.747000           886.004428   \n",
       "4            3035.550000          5916.370000          6243.000000   \n",
       "..                   ...                  ...                  ...   \n",
       "903           805.760000             0.994875           233.596650   \n",
       "904           805.760000           701.027250           716.728350   \n",
       "905           805.760000           701.027250           716.728350   \n",
       "906           805.760000           701.027250           716.728350   \n",
       "907           805.760000           701.027250           716.728350   \n",
       "\n",
       "     generation_gwh_2017  PP_age  \n",
       "0             807.601700    11.0  \n",
       "1             807.601700    22.0  \n",
       "2             807.601700    22.0  \n",
       "3             663.774500    18.0  \n",
       "4            5385.579736     7.0  \n",
       "..                   ...     ...  \n",
       "903           865.400000     6.0  \n",
       "904           807.601700    22.0  \n",
       "905           807.601700    22.0  \n",
       "906           807.601700    22.0  \n",
       "907           807.601700    22.0  \n",
       "\n",
       "[852 rows x 13 columns]"
      ]
     },
     "execution_count": 67,
     "metadata": {},
     "output_type": "execute_result"
    }
   ],
   "source": [
    "# Creating new dataframe\n",
    "new_df = df[(z<3).all(axis=1)]\n",
    "new_df\n"
   ]
  },
  {
   "cell_type": "code",
   "execution_count": 68,
   "metadata": {},
   "outputs": [
    {
     "name": "stdout",
     "output_type": "stream",
     "text": [
      "(908, 13)\n"
     ]
    }
   ],
   "source": [
    "print(df.shape)\n"
   ]
  },
  {
   "cell_type": "code",
   "execution_count": 69,
   "metadata": {},
   "outputs": [
    {
     "name": "stdout",
     "output_type": "stream",
     "text": [
      "(852, 13)\n"
     ]
    }
   ],
   "source": [
    "print(new_df.shape)"
   ]
  },
  {
   "cell_type": "code",
   "execution_count": 70,
   "metadata": {},
   "outputs": [],
   "source": [
    "# Percentage loss\n",
    "p_loss =(908-852)/908*100"
   ]
  },
  {
   "cell_type": "code",
   "execution_count": 71,
   "metadata": {},
   "outputs": [
    {
     "data": {
      "text/plain": [
       "6.167400881057269"
      ]
     },
     "execution_count": 71,
     "metadata": {},
     "output_type": "execute_result"
    }
   ],
   "source": [
    "p_loss"
   ]
  },
  {
   "cell_type": "markdown",
   "metadata": {},
   "source": [
    "the data loss is 6.16 %. Since the data loss is small % we can proceed with the new dataset for further analysis"
   ]
  },
  {
   "cell_type": "code",
   "execution_count": 72,
   "metadata": {},
   "outputs": [],
   "source": [
    "numerical_col2=new_df[['capacity_mw', 'latitude', 'longitude', 'generation_gwh_2013', 'generation_gwh_2014', 'generation_gwh_2015', 'generation_gwh_2016', 'generation_gwh_2017', 'PP_age']]"
   ]
  },
  {
   "cell_type": "code",
   "execution_count": 73,
   "metadata": {},
   "outputs": [],
   "source": [
    "# Converting categorical variables into numerical variables using Lebel Encoder\n",
    "from sklearn.preprocessing import LabelEncoder\n",
    "le=LabelEncoder()\n"
   ]
  },
  {
   "cell_type": "code",
   "execution_count": 74,
   "metadata": {},
   "outputs": [],
   "source": [
    "new_df['primary_fuel']=le.fit_transform(new_df['primary_fuel'])\n",
    "new_df['other_fuel1']=le.fit_transform(new_df['other_fuel1'])\n",
    "new_df['source']=le.fit_transform(new_df['source'])\n",
    "new_df['geolocation_source']=le.fit_transform(new_df['geolocation_source'])"
   ]
  },
  {
   "cell_type": "code",
   "execution_count": 75,
   "metadata": {},
   "outputs": [
    {
     "data": {
      "text/plain": [
       "capacity_mw            float64\n",
       "latitude               float64\n",
       "longitude              float64\n",
       "primary_fuel             int32\n",
       "other_fuel1              int32\n",
       "source                   int32\n",
       "geolocation_source       int32\n",
       "generation_gwh_2013    float64\n",
       "generation_gwh_2014    float64\n",
       "generation_gwh_2015    float64\n",
       "generation_gwh_2016    float64\n",
       "generation_gwh_2017    float64\n",
       "PP_age                 float64\n",
       "dtype: object"
      ]
     },
     "execution_count": 75,
     "metadata": {},
     "output_type": "execute_result"
    }
   ],
   "source": [
    "new_df.dtypes"
   ]
  },
  {
   "cell_type": "raw",
   "metadata": {},
   "source": [
    "All The values have been converted into the numerical variables"
   ]
  },
  {
   "cell_type": "code",
   "execution_count": 76,
   "metadata": {},
   "outputs": [
    {
     "data": {
      "image/png": "[encoded data removed]",
      "text/plain": [
       "<Figure size 2160x1800 with 2 Axes>"
      ]
     },
     "metadata": {
      "needs_background": "light"
     },
     "output_type": "display_data"
    }
   ],
   "source": [
    "# Checking for the correlation using heatmap\n",
    "\n",
    "corr = new_df.corr()\n",
    "plt.figure(figsize=(30,25))\n",
    "sns.heatmap(new_df.corr(),linewidths=0.1,annot=True)\n",
    "plt.show()"
   ]
  },
  {
   "cell_type": "raw",
   "metadata": {},
   "source": [
    "The target \"capacity\" has negative correlation with primary fuel,power planyt age and source\n",
    "It is positively correlated with 'generation_gwh_2013', 'generation_gwh_2014', 'generation_gwh_2015', 'generation_gwh_2016', 'generation_gwh_2017'\n",
    "The target variable has negligle correlational value with latitude and other fuel. Thus we can drop these columns before procedding for further analysis\n",
    "\n"
   ]
  },
  {
   "cell_type": "code",
   "execution_count": 77,
   "metadata": {},
   "outputs": [
    {
     "data": {
      "text/html": [
       "<div>\n",
       "<style scoped>\n",
       "    .dataframe tbody tr th:only-of-type {\n",
       "        vertical-align: middle;\n",
       "    }\n",
       "\n",
       "    .dataframe tbody tr th {\n",
       "        vertical-align: top;\n",
       "    }\n",
       "\n",
       "    .dataframe thead th {\n",
       "        text-align: right;\n",
       "    }\n",
       "</style>\n",
       "<table border=\"1\" class=\"dataframe\">\n",
       "  <thead>\n",
       "    <tr style=\"text-align: right;\">\n",
       "      <th></th>\n",
       "      <th>capacity_mw</th>\n",
       "      <th>longitude</th>\n",
       "      <th>primary_fuel</th>\n",
       "      <th>source</th>\n",
       "      <th>geolocation_source</th>\n",
       "      <th>generation_gwh_2013</th>\n",
       "      <th>generation_gwh_2014</th>\n",
       "      <th>generation_gwh_2015</th>\n",
       "      <th>generation_gwh_2016</th>\n",
       "      <th>generation_gwh_2017</th>\n",
       "      <th>PP_age</th>\n",
       "    </tr>\n",
       "  </thead>\n",
       "  <tbody>\n",
       "    <tr>\n",
       "      <th>0</th>\n",
       "      <td>2.5</td>\n",
       "      <td>73.2407</td>\n",
       "      <td>6</td>\n",
       "      <td>109</td>\n",
       "      <td>1</td>\n",
       "      <td>797.063475</td>\n",
       "      <td>805.760000</td>\n",
       "      <td>701.027250</td>\n",
       "      <td>716.728350</td>\n",
       "      <td>807.601700</td>\n",
       "      <td>11.0</td>\n",
       "    </tr>\n",
       "    <tr>\n",
       "      <th>1</th>\n",
       "      <td>98.0</td>\n",
       "      <td>74.6090</td>\n",
       "      <td>1</td>\n",
       "      <td>174</td>\n",
       "      <td>2</td>\n",
       "      <td>797.063475</td>\n",
       "      <td>805.760000</td>\n",
       "      <td>701.027250</td>\n",
       "      <td>716.728350</td>\n",
       "      <td>807.601700</td>\n",
       "      <td>22.0</td>\n",
       "    </tr>\n",
       "    <tr>\n",
       "      <th>2</th>\n",
       "      <td>39.2</td>\n",
       "      <td>69.3732</td>\n",
       "      <td>7</td>\n",
       "      <td>21</td>\n",
       "      <td>2</td>\n",
       "      <td>797.063475</td>\n",
       "      <td>805.760000</td>\n",
       "      <td>701.027250</td>\n",
       "      <td>716.728350</td>\n",
       "      <td>807.601700</td>\n",
       "      <td>22.0</td>\n",
       "    </tr>\n",
       "    <tr>\n",
       "      <th>3</th>\n",
       "      <td>135.0</td>\n",
       "      <td>91.3602</td>\n",
       "      <td>2</td>\n",
       "      <td>22</td>\n",
       "      <td>2</td>\n",
       "      <td>631.777928</td>\n",
       "      <td>617.789264</td>\n",
       "      <td>843.747000</td>\n",
       "      <td>886.004428</td>\n",
       "      <td>663.774500</td>\n",
       "      <td>18.0</td>\n",
       "    </tr>\n",
       "    <tr>\n",
       "      <th>4</th>\n",
       "      <td>1800.0</td>\n",
       "      <td>82.4091</td>\n",
       "      <td>1</td>\n",
       "      <td>22</td>\n",
       "      <td>2</td>\n",
       "      <td>1668.290000</td>\n",
       "      <td>3035.550000</td>\n",
       "      <td>5916.370000</td>\n",
       "      <td>6243.000000</td>\n",
       "      <td>5385.579736</td>\n",
       "      <td>7.0</td>\n",
       "    </tr>\n",
       "    <tr>\n",
       "      <th>...</th>\n",
       "      <td>...</td>\n",
       "      <td>...</td>\n",
       "      <td>...</td>\n",
       "      <td>...</td>\n",
       "      <td>...</td>\n",
       "      <td>...</td>\n",
       "      <td>...</td>\n",
       "      <td>...</td>\n",
       "      <td>...</td>\n",
       "      <td>...</td>\n",
       "      <td>...</td>\n",
       "    </tr>\n",
       "    <tr>\n",
       "      <th>903</th>\n",
       "      <td>1600.0</td>\n",
       "      <td>77.3568</td>\n",
       "      <td>1</td>\n",
       "      <td>22</td>\n",
       "      <td>2</td>\n",
       "      <td>797.063475</td>\n",
       "      <td>805.760000</td>\n",
       "      <td>0.994875</td>\n",
       "      <td>233.596650</td>\n",
       "      <td>865.400000</td>\n",
       "      <td>6.0</td>\n",
       "    </tr>\n",
       "    <tr>\n",
       "      <th>904</th>\n",
       "      <td>3.0</td>\n",
       "      <td>78.1654</td>\n",
       "      <td>6</td>\n",
       "      <td>77</td>\n",
       "      <td>0</td>\n",
       "      <td>797.063475</td>\n",
       "      <td>805.760000</td>\n",
       "      <td>701.027250</td>\n",
       "      <td>716.728350</td>\n",
       "      <td>807.601700</td>\n",
       "      <td>22.0</td>\n",
       "    </tr>\n",
       "    <tr>\n",
       "      <th>905</th>\n",
       "      <td>25.5</td>\n",
       "      <td>75.5811</td>\n",
       "      <td>7</td>\n",
       "      <td>21</td>\n",
       "      <td>2</td>\n",
       "      <td>797.063475</td>\n",
       "      <td>805.760000</td>\n",
       "      <td>701.027250</td>\n",
       "      <td>716.728350</td>\n",
       "      <td>807.601700</td>\n",
       "      <td>22.0</td>\n",
       "    </tr>\n",
       "    <tr>\n",
       "      <th>906</th>\n",
       "      <td>80.0</td>\n",
       "      <td>73.7477</td>\n",
       "      <td>1</td>\n",
       "      <td>59</td>\n",
       "      <td>2</td>\n",
       "      <td>797.063475</td>\n",
       "      <td>805.760000</td>\n",
       "      <td>701.027250</td>\n",
       "      <td>716.728350</td>\n",
       "      <td>807.601700</td>\n",
       "      <td>22.0</td>\n",
       "    </tr>\n",
       "    <tr>\n",
       "      <th>907</th>\n",
       "      <td>16.5</td>\n",
       "      <td>77.4768</td>\n",
       "      <td>7</td>\n",
       "      <td>21</td>\n",
       "      <td>2</td>\n",
       "      <td>797.063475</td>\n",
       "      <td>805.760000</td>\n",
       "      <td>701.027250</td>\n",
       "      <td>716.728350</td>\n",
       "      <td>807.601700</td>\n",
       "      <td>22.0</td>\n",
       "    </tr>\n",
       "  </tbody>\n",
       "</table>\n",
       "<p>852 rows × 11 columns</p>\n",
       "</div>"
      ],
      "text/plain": [
       "     capacity_mw  longitude  primary_fuel  source  geolocation_source  \\\n",
       "0            2.5    73.2407             6     109                   1   \n",
       "1           98.0    74.6090             1     174                   2   \n",
       "2           39.2    69.3732             7      21                   2   \n",
       "3          135.0    91.3602             2      22                   2   \n",
       "4         1800.0    82.4091             1      22                   2   \n",
       "..           ...        ...           ...     ...                 ...   \n",
       "903       1600.0    77.3568             1      22                   2   \n",
       "904          3.0    78.1654             6      77                   0   \n",
       "905         25.5    75.5811             7      21                   2   \n",
       "906         80.0    73.7477             1      59                   2   \n",
       "907         16.5    77.4768             7      21                   2   \n",
       "\n",
       "     generation_gwh_2013  generation_gwh_2014  generation_gwh_2015  \\\n",
       "0             797.063475           805.760000           701.027250   \n",
       "1             797.063475           805.760000           701.027250   \n",
       "2             797.063475           805.760000           701.027250   \n",
       "3             631.777928           617.789264           843.747000   \n",
       "4            1668.290000          3035.550000          5916.370000   \n",
       "..                   ...                  ...                  ...   \n",
       "903           797.063475           805.760000             0.994875   \n",
       "904           797.063475           805.760000           701.027250   \n",
       "905           797.063475           805.760000           701.027250   \n",
       "906           797.063475           805.760000           701.027250   \n",
       "907           797.063475           805.760000           701.027250   \n",
       "\n",
       "     generation_gwh_2016  generation_gwh_2017  PP_age  \n",
       "0             716.728350           807.601700    11.0  \n",
       "1             716.728350           807.601700    22.0  \n",
       "2             716.728350           807.601700    22.0  \n",
       "3             886.004428           663.774500    18.0  \n",
       "4            6243.000000          5385.579736     7.0  \n",
       "..                   ...                  ...     ...  \n",
       "903           233.596650           865.400000     6.0  \n",
       "904           716.728350           807.601700    22.0  \n",
       "905           716.728350           807.601700    22.0  \n",
       "906           716.728350           807.601700    22.0  \n",
       "907           716.728350           807.601700    22.0  \n",
       "\n",
       "[852 rows x 11 columns]"
      ]
     },
     "execution_count": 77,
     "metadata": {},
     "output_type": "execute_result"
    }
   ],
   "source": [
    "new_df.drop(columns=\"latitude\",axis=1,inplace=True)\n",
    "new_df.drop(columns=\"other_fuel1\",axis=1,inplace=True)\n",
    "new_df"
   ]
  },
  {
   "cell_type": "markdown",
   "metadata": {},
   "source": [
    "## Feature selection \n"
   ]
  },
  {
   "cell_type": "code",
   "execution_count": 78,
   "metadata": {},
   "outputs": [],
   "source": [
    "x = new_df.drop(\"capacity_mw\",axis=1)\n",
    "y = new_df['capacity_mw']"
   ]
  },
  {
   "cell_type": "code",
   "execution_count": 79,
   "metadata": {},
   "outputs": [
    {
     "data": {
      "text/plain": [
       "longitude              0.888694\n",
       "primary_fuel           0.413982\n",
       "source                 1.736117\n",
       "geolocation_source    -2.068499\n",
       "generation_gwh_2013    3.096648\n",
       "generation_gwh_2014    2.940976\n",
       "generation_gwh_2015    2.714988\n",
       "generation_gwh_2016    2.635667\n",
       "generation_gwh_2017    2.532066\n",
       "PP_age                 1.209638\n",
       "dtype: float64"
      ]
     },
     "execution_count": 79,
     "metadata": {},
     "output_type": "execute_result"
    }
   ],
   "source": [
    "x.skew()"
   ]
  },
  {
   "cell_type": "raw",
   "metadata": {},
   "source": [
    "There is a skewnes in the dataset which can be handled using power transform method"
   ]
  },
  {
   "cell_type": "code",
   "execution_count": 80,
   "metadata": {},
   "outputs": [],
   "source": [
    "#Removing skewness in the dataset using power transform method\n",
    "#importing power transform from library\n",
    "from sklearn.preprocessing import power_transform\n"
   ]
  },
  {
   "cell_type": "code",
   "execution_count": 81,
   "metadata": {},
   "outputs": [
    {
     "data": {
      "text/plain": [
       "array([[-0.92403917,  1.13384938,  1.52913594, ..., -0.05461031,\n",
       "        -0.03923644, -1.16483835],\n",
       "       [-0.50062957, -0.99460666,  1.98285743, ..., -0.05461031,\n",
       "        -0.03923644,  0.0824874 ],\n",
       "       [-2.37361202,  1.40414507, -0.48783025, ..., -0.05461031,\n",
       "        -0.03923644,  0.0824874 ],\n",
       "       ...,\n",
       "       [-0.22356344,  1.40414507, -0.48783025, ..., -0.05461031,\n",
       "        -0.03923644,  0.0824874 ],\n",
       "       [-0.7623587 , -0.99460666,  0.8573127 , ..., -0.05461031,\n",
       "        -0.03923644,  0.0824874 ],\n",
       "       [ 0.2662326 ,  1.40414507, -0.48783025, ..., -0.05461031,\n",
       "        -0.03923644,  0.0824874 ]])"
      ]
     },
     "execution_count": 81,
     "metadata": {},
     "output_type": "execute_result"
    }
   ],
   "source": [
    "x=power_transform(x,method=\"yeo-johnson\")\n",
    "x"
   ]
  },
  {
   "cell_type": "code",
   "execution_count": 82,
   "metadata": {},
   "outputs": [],
   "source": [
    "# Scaling the data using standard scaler\n",
    "#importing standard scaler\n",
    "from sklearn.preprocessing import StandardScaler"
   ]
  },
  {
   "cell_type": "code",
   "execution_count": 83,
   "metadata": {},
   "outputs": [
    {
     "data": {
      "text/plain": [
       "array([[-0.92403918,  1.13384938,  1.52913594, ..., -0.05461031,\n",
       "        -0.03923644, -1.16483835],\n",
       "       [-0.50062958, -0.99460666,  1.98285743, ..., -0.05461031,\n",
       "        -0.03923644,  0.0824874 ],\n",
       "       [-2.37361203,  1.40414507, -0.48783025, ..., -0.05461031,\n",
       "        -0.03923644,  0.0824874 ],\n",
       "       ...,\n",
       "       [-0.22356345,  1.40414507, -0.48783025, ..., -0.05461031,\n",
       "        -0.03923644,  0.0824874 ],\n",
       "       [-0.76235871, -0.99460666,  0.8573127 , ..., -0.05461031,\n",
       "        -0.03923644,  0.0824874 ],\n",
       "       [ 0.2662326 ,  1.40414507, -0.48783025, ..., -0.05461031,\n",
       "        -0.03923644,  0.0824874 ]])"
      ]
     },
     "execution_count": 83,
     "metadata": {},
     "output_type": "execute_result"
    }
   ],
   "source": [
    "sc=StandardScaler()\n",
    "x_scaled=sc.fit_transform(x)\n",
    "x_scaled"
   ]
  },
  {
   "cell_type": "markdown",
   "metadata": {},
   "source": [
    "## ML Model Building"
   ]
  },
  {
   "cell_type": "code",
   "execution_count": 86,
   "metadata": {},
   "outputs": [],
   "source": [
    "#importing ml libraries\n",
    "from sklearn.model_selection import train_test_split\n",
    "from sklearn.linear_model import LinearRegression\n",
    "from sklearn.metrics import r2_score\n",
    "from sklearn.metrics import mean_squared_error,mean_absolute_error\n",
    "from sklearn.model_selection import cross_val_score\n",
    "from sklearn.metrics import accuracy_score,confusion_matrix,classification_report"
   ]
  },
  {
   "cell_type": "code",
   "execution_count": 87,
   "metadata": {},
   "outputs": [
    {
     "name": "stdout",
     "output_type": "stream",
     "text": [
      " best accuracy=65.72253650623739 found on random_state309\n",
      "mean squared error: 93495.4703467737\n",
      "mean absolute error: 219.4994619206319\n"
     ]
    }
   ],
   "source": [
    "# finding the best random state number\n",
    "best_rstate=0\n",
    "accu=0\n",
    "for i in range(0,1000):\n",
    "    x_train,x_test,y_train,y_test=train_test_split(x_scaled,y,test_size=.25,random_state=i)\n",
    "    mod=LinearRegression()\n",
    "    mod.fit(x_train,y_train)\n",
    "    predmod=mod.predict(x_test)\n",
    "    tempaccu=r2_score(y_test,predmod)\n",
    "    if tempaccu>accu:\n",
    "        accu=tempaccu\n",
    "        best_rstate=i\n",
    "print(f\" best accuracy={accu*100} found on random_state{best_rstate}\")\n",
    "print(\"mean squared error:\",mean_squared_error(y_test,predmod))\n",
    "print(\"mean absolute error:\",mean_absolute_error(y_test,predmod))"
   ]
  },
  {
   "cell_type": "code",
   "execution_count": 89,
   "metadata": {},
   "outputs": [],
   "source": [
    "# Training the dataset\n",
    "x_train,x_test,y_train,y_test=train_test_split(x_scaled,y,test_size=.25,random_state=i)"
   ]
  },
  {
   "cell_type": "markdown",
   "metadata": {},
   "source": [
    "## Finding the best model"
   ]
  },
  {
   "cell_type": "code",
   "execution_count": 91,
   "metadata": {},
   "outputs": [],
   "source": [
    "#Lets import the libraries for model fitting\n",
    "from sklearn.model_selection import train_test_split\n",
    "from sklearn.metrics import mean_squared_error,mean_absolute_error,r2_score\n",
    "from sklearn.linear_model import LinearRegression\n",
    "from sklearn.ensemble import AdaBoostRegressor\n",
    "from sklearn.linear_model import Lasso,Ridge,ElasticNet\n",
    "from sklearn.svm import SVR\n",
    "from sklearn.model_selection import KFold\n",
    "from sklearn.neighbors import KNeighborsRegressor\n",
    "from sklearn.tree import DecisionTreeRegressor\n",
    "from sklearn.ensemble import RandomForestRegressor\n",
    "from sklearn.model_selection import cross_val_score"
   ]
  },
  {
   "cell_type": "code",
   "execution_count": 92,
   "metadata": {},
   "outputs": [
    {
     "data": {
      "text/html": [
       "<div>\n",
       "<style scoped>\n",
       "    .dataframe tbody tr th:only-of-type {\n",
       "        vertical-align: middle;\n",
       "    }\n",
       "\n",
       "    .dataframe tbody tr th {\n",
       "        vertical-align: top;\n",
       "    }\n",
       "\n",
       "    .dataframe thead th {\n",
       "        text-align: right;\n",
       "    }\n",
       "</style>\n",
       "<table border=\"1\" class=\"dataframe\">\n",
       "  <thead>\n",
       "    <tr style=\"text-align: right;\">\n",
       "      <th></th>\n",
       "      <th>Model</th>\n",
       "      <th>Training Score</th>\n",
       "      <th>Test Score</th>\n",
       "      <th>Mean Square Error</th>\n",
       "      <th>Cross Validation Score</th>\n",
       "    </tr>\n",
       "  </thead>\n",
       "  <tbody>\n",
       "    <tr>\n",
       "      <th>0</th>\n",
       "      <td>Linear Regression</td>\n",
       "      <td>0.529202</td>\n",
       "      <td>0.547449</td>\n",
       "      <td>93495.470347</td>\n",
       "      <td>0.512050</td>\n",
       "    </tr>\n",
       "    <tr>\n",
       "      <th>1</th>\n",
       "      <td>SupportVector</td>\n",
       "      <td>0.363355</td>\n",
       "      <td>0.419354</td>\n",
       "      <td>119959.443775</td>\n",
       "      <td>0.383040</td>\n",
       "    </tr>\n",
       "    <tr>\n",
       "      <th>2</th>\n",
       "      <td>DecisionTree</td>\n",
       "      <td>0.999879</td>\n",
       "      <td>0.526066</td>\n",
       "      <td>97913.165198</td>\n",
       "      <td>0.660581</td>\n",
       "    </tr>\n",
       "    <tr>\n",
       "      <th>3</th>\n",
       "      <td>RandomForest</td>\n",
       "      <td>0.965713</td>\n",
       "      <td>0.770375</td>\n",
       "      <td>47439.658826</td>\n",
       "      <td>0.783632</td>\n",
       "    </tr>\n",
       "    <tr>\n",
       "      <th>4</th>\n",
       "      <td>KNN</td>\n",
       "      <td>0.830142</td>\n",
       "      <td>0.782354</td>\n",
       "      <td>44964.923145</td>\n",
       "      <td>0.743201</td>\n",
       "    </tr>\n",
       "    <tr>\n",
       "      <th>5</th>\n",
       "      <td>AdaBoost</td>\n",
       "      <td>0.726349</td>\n",
       "      <td>0.631707</td>\n",
       "      <td>76088.041906</td>\n",
       "      <td>0.570317</td>\n",
       "    </tr>\n",
       "    <tr>\n",
       "      <th>6</th>\n",
       "      <td>Lasso</td>\n",
       "      <td>0.528927</td>\n",
       "      <td>0.553563</td>\n",
       "      <td>92232.360946</td>\n",
       "      <td>0.515754</td>\n",
       "    </tr>\n",
       "    <tr>\n",
       "      <th>7</th>\n",
       "      <td>Ridge</td>\n",
       "      <td>0.529195</td>\n",
       "      <td>0.548446</td>\n",
       "      <td>93289.364647</td>\n",
       "      <td>0.512405</td>\n",
       "    </tr>\n",
       "  </tbody>\n",
       "</table>\n",
       "</div>"
      ],
      "text/plain": [
       "               Model  Training Score  Test Score  Mean Square Error  \\\n",
       "0  Linear Regression        0.529202    0.547449       93495.470347   \n",
       "1      SupportVector        0.363355    0.419354      119959.443775   \n",
       "2       DecisionTree        0.999879    0.526066       97913.165198   \n",
       "3       RandomForest        0.965713    0.770375       47439.658826   \n",
       "4                KNN        0.830142    0.782354       44964.923145   \n",
       "5           AdaBoost        0.726349    0.631707       76088.041906   \n",
       "6              Lasso        0.528927    0.553563       92232.360946   \n",
       "7              Ridge        0.529195    0.548446       93289.364647   \n",
       "\n",
       "   Cross Validation Score  \n",
       "0                0.512050  \n",
       "1                0.383040  \n",
       "2                0.660581  \n",
       "3                0.783632  \n",
       "4                0.743201  \n",
       "5                0.570317  \n",
       "6                0.515754  \n",
       "7                0.512405  "
      ]
     },
     "execution_count": 92,
     "metadata": {},
     "output_type": "execute_result"
    }
   ],
   "source": [
    "#Finding the best model\n",
    "sv=SVR(kernel='linear')\n",
    "dt=DecisionTreeRegressor()\n",
    "rf=RandomForestRegressor()\n",
    "kn=KNeighborsRegressor()\n",
    "ab=AdaBoostRegressor()\n",
    "ls=Lasso()\n",
    "rd=Ridge()\n",
    "lr=LinearRegression()\n",
    "model=[lr,sv,dt,rf,kn,ab,ls,rd]\n",
    "kf = KFold(n_splits=5, random_state=54, shuffle=True)\n",
    "\n",
    "train=[]\n",
    "test=[]\n",
    "Mse=[]\n",
    "cv=[]\n",
    "\n",
    "for m in model:\n",
    "    m.fit(x_train,y_train)\n",
    "    pred_train=m.predict(x_train)\n",
    "    pred_test=m.predict(x_test)\n",
    "    train_score=r2_score(y_train,pred_train)\n",
    "    train.append(train_score)\n",
    "    test_score=r2_score(y_test,pred_test)\n",
    "    test.append(test_score)\n",
    "    mse = mean_squared_error(y_test,pred_test)\n",
    "    Mse.append(mse)\n",
    "    score=cross_val_score(m,x,y,cv=kf)\n",
    "    cv.append(score.mean())\n",
    "    \n",
    "Performance={'Model':['Linear Regression','SupportVector','DecisionTree','RandomForest','KNN','AdaBoost','Lasso','Ridge'],\n",
    "             'Training Score':train,\n",
    "            'Test Score':test,\n",
    "            'Mean Square Error':Mse,\n",
    "            'Cross Validation Score': cv}\n",
    "Performance=pd.DataFrame(data=Performance)\n",
    "Performance"
   ]
  },
  {
   "cell_type": "code",
   "execution_count": 93,
   "metadata": {},
   "outputs": [],
   "source": [
    "# Random Forest is best that fits the model as it has the minimumm difference between the accuracy & cv score"
   ]
  },
  {
   "cell_type": "code",
   "execution_count": 94,
   "metadata": {},
   "outputs": [],
   "source": [
    "# Saving the model\n",
    "\n",
    "#saving the file\n",
    "import pickle\n",
    "filename=\"Global_power_plant_capacity.pkl\"\n",
    "pickle.dump(rf,open(filename,\"wb\"))"
   ]
  },
  {
   "cell_type": "markdown",
   "metadata": {},
   "source": [
    "## 2. Making predictions for Primary fuel "
   ]
  },
  {
   "cell_type": "code",
   "execution_count": null,
   "metadata": {},
   "outputs": [],
   "source": []
  },
  {
   "cell_type": "code",
   "execution_count": 95,
   "metadata": {},
   "outputs": [],
   "source": [
    "x1 = new_df.drop(\"primary_fuel\",axis=1)\n",
    "y1 = new_df['primary_fuel']"
   ]
  },
  {
   "cell_type": "code",
   "execution_count": 96,
   "metadata": {},
   "outputs": [],
   "source": [
    "#Removing skewness in the dataset using power transform method\n",
    "#importing power transform from library\n",
    "from sklearn.preprocessing import power_transform"
   ]
  },
  {
   "cell_type": "code",
   "execution_count": 97,
   "metadata": {},
   "outputs": [
    {
     "data": {
      "text/plain": [
       "array([[-0.92404426,  1.13802329,  1.4795819 , ..., -0.02949144,\n",
       "        -0.01777932, -1.16082484],\n",
       "       [-0.50072981, -0.99434355,  1.8863854 , ..., -0.02949144,\n",
       "        -0.01777932,  0.07466451],\n",
       "       [-2.37303252,  1.41559811, -0.46356142, ..., -0.02949144,\n",
       "        -0.01777932,  0.07466451],\n",
       "       ...,\n",
       "       [-0.22369948,  1.41559811, -0.46356142, ..., -0.02949144,\n",
       "        -0.01777932,  0.07466451],\n",
       "       [-0.76240526, -0.99434355,  0.86201344, ..., -0.02949144,\n",
       "        -0.01777932,  0.07466451],\n",
       "       [ 0.26610031,  1.41559811, -0.46356142, ..., -0.02949144,\n",
       "        -0.01777932,  0.07466451]])"
      ]
     },
     "execution_count": 97,
     "metadata": {},
     "output_type": "execute_result"
    }
   ],
   "source": [
    "x1=power_transform(x,method=\"yeo-johnson\")\n",
    "x1"
   ]
  },
  {
   "cell_type": "code",
   "execution_count": 98,
   "metadata": {},
   "outputs": [],
   "source": [
    "# Scaling the data using standard scaler\n",
    "#importing standard scaler\n",
    "from sklearn.preprocessing import StandardScaler"
   ]
  },
  {
   "cell_type": "code",
   "execution_count": 99,
   "metadata": {
    "collapsed": true
   },
   "outputs": [
    {
     "data": {
      "text/plain": [
       "array([[-0.92404426,  1.13802329,  1.4795819 , ..., -0.02949144,\n",
       "        -0.01777932, -1.16082484],\n",
       "       [-0.50072981, -0.99434355,  1.8863854 , ..., -0.02949144,\n",
       "        -0.01777932,  0.07466451],\n",
       "       [-2.37303252,  1.41559811, -0.46356142, ..., -0.02949144,\n",
       "        -0.01777932,  0.07466451],\n",
       "       ...,\n",
       "       [-0.22369948,  1.41559811, -0.46356142, ..., -0.02949144,\n",
       "        -0.01777932,  0.07466451],\n",
       "       [-0.76240526, -0.99434355,  0.86201344, ..., -0.02949144,\n",
       "        -0.01777932,  0.07466451],\n",
       "       [ 0.26610031,  1.41559811, -0.46356142, ..., -0.02949144,\n",
       "        -0.01777932,  0.07466451]])"
      ]
     },
     "execution_count": 99,
     "metadata": {},
     "output_type": "execute_result"
    }
   ],
   "source": [
    "sc=StandardScaler()\n",
    "x_scaled=sc.fit_transform(x1)\n",
    "x_scaled"
   ]
  },
  {
   "cell_type": "markdown",
   "metadata": {},
   "source": [
    "## ML Model Building"
   ]
  },
  {
   "cell_type": "code",
   "execution_count": 100,
   "metadata": {},
   "outputs": [],
   "source": [
    "#Training the model\n",
    "x_train,x_test,y_train,y_test=train_test_split(x_scaled,y1,test_size=.25,random_state=56)"
   ]
  },
  {
   "cell_type": "code",
   "execution_count": 101,
   "metadata": {},
   "outputs": [
    {
     "name": "stdout",
     "output_type": "stream",
     "text": [
      "0.9906103286384976\n",
      "[[17  0  0  0  0  0  0  0]\n",
      " [ 0 45  0  0  0  0  0  0]\n",
      " [ 0  0 18  0  0  0  0  0]\n",
      " [ 0  0  0 59  0  0  0  0]\n",
      " [ 0  0  0  0  3  2  0  0]\n",
      " [ 0  0  0  0  0  4  0  0]\n",
      " [ 0  0  0  0  0  0 35  0]\n",
      " [ 0  0  0  0  0  0  0 30]]\n",
      "              precision    recall  f1-score   support\n",
      "\n",
      "           0       1.00      1.00      1.00        17\n",
      "           1       1.00      1.00      1.00        45\n",
      "           2       1.00      1.00      1.00        18\n",
      "           3       1.00      1.00      1.00        59\n",
      "           4       1.00      0.60      0.75         5\n",
      "           5       0.67      1.00      0.80         4\n",
      "           6       1.00      1.00      1.00        35\n",
      "           7       1.00      1.00      1.00        30\n",
      "\n",
      "    accuracy                           0.99       213\n",
      "   macro avg       0.96      0.95      0.94       213\n",
      "weighted avg       0.99      0.99      0.99       213\n",
      "\n",
      "cross val score= 100.0\n"
     ]
    }
   ],
   "source": [
    "# finding the best model\n",
    "#DecisionTreeClassifier\n",
    "from sklearn.tree import DecisionTreeClassifier\n",
    "dtc=DecisionTreeClassifier()\n",
    "dtc.fit(x_train,y_train)\n",
    "predtc=dtc.predict(x_test)\n",
    "cvscore=cross_val_score(DecisionTreeClassifier(),x_train,y_train,cv=5).mean()\n",
    "print(accuracy_score(y_test,predtc))\n",
    "print(confusion_matrix(y_test,predtc))\n",
    "print(classification_report(y_test,predtc))\n",
    "print(\"cross val score=\",(cvscore*100))"
   ]
  },
  {
   "cell_type": "code",
   "execution_count": 102,
   "metadata": {},
   "outputs": [
    {
     "name": "stdout",
     "output_type": "stream",
     "text": [
      "accuracy score= 0.9014084507042254\n",
      "confusion matrix= [[17  0  0  0  0  0  0  0]\n",
      " [ 0 45  0  0  0  0  0  0]\n",
      " [ 0  4  8  6  0  0  0  0]\n",
      " [ 0  2  0 57  0  0  0  0]\n",
      " [ 0  0  1  3  0  1  0  0]\n",
      " [ 0  0  0  4  0  0  0  0]\n",
      " [ 0  0  0  0  0  0 35  0]\n",
      " [ 0  0  0  0  0  0  0 30]]\n",
      "classification report=               precision    recall  f1-score   support\n",
      "\n",
      "           0       1.00      1.00      1.00        17\n",
      "           1       0.88      1.00      0.94        45\n",
      "           2       0.89      0.44      0.59        18\n",
      "           3       0.81      0.97      0.88        59\n",
      "           4       0.00      0.00      0.00         5\n",
      "           5       0.00      0.00      0.00         4\n",
      "           6       1.00      1.00      1.00        35\n",
      "           7       1.00      1.00      1.00        30\n",
      "\n",
      "    accuracy                           0.90       213\n",
      "   macro avg       0.70      0.68      0.68       213\n",
      "weighted avg       0.87      0.90      0.88       213\n",
      "\n",
      "cross val score= 91.08390748031496\n"
     ]
    }
   ],
   "source": [
    "#SVC\n",
    "from sklearn.svm import SVC\n",
    "svc=SVC()\n",
    "svc.fit(x_train,y_train)\n",
    "predsvc=svc.predict(x_test)\n",
    "cvscore=cross_val_score(SVC(),x_train,y_train,cv=5).mean()\n",
    "print(\"accuracy score=\",accuracy_score(y_test,predsvc))\n",
    "print(\"confusion matrix=\",confusion_matrix(y_test,predsvc))\n",
    "print(\"classification report=\",classification_report(y_test,predsvc))\n",
    "print(\"cross val score=\",(cvscore*100))"
   ]
  },
  {
   "cell_type": "code",
   "execution_count": 105,
   "metadata": {},
   "outputs": [
    {
     "name": "stdout",
     "output_type": "stream",
     "text": [
      "accuracy score= 0.8450704225352113\n",
      "confusion matrix= [[17  0  0  0  0  0  0  0]\n",
      " [ 0 42  2  1  0  0  0  0]\n",
      " [ 0  5  5  7  0  1  0  0]\n",
      " [ 0  8  0 51  0  0  0  0]\n",
      " [ 0  2  3  0  0  0  0  0]\n",
      " [ 0  0  2  2  0  0  0  0]\n",
      " [ 0  0  0  0  0  0 35  0]\n",
      " [ 0  0  0  0  0  0  0 30]]\n",
      "classification report=               precision    recall  f1-score   support\n",
      "\n",
      "           0       1.00      1.00      1.00        17\n",
      "           1       0.74      0.93      0.82        45\n",
      "           2       0.42      0.28      0.33        18\n",
      "           3       0.84      0.86      0.85        59\n",
      "           4       0.00      0.00      0.00         5\n",
      "           5       0.00      0.00      0.00         4\n",
      "           6       1.00      1.00      1.00        35\n",
      "           7       1.00      1.00      1.00        30\n",
      "\n",
      "    accuracy                           0.85       213\n",
      "   macro avg       0.62      0.63      0.63       213\n",
      "weighted avg       0.81      0.85      0.82       213\n",
      "\n",
      "cross val score= 87.32529527559055\n"
     ]
    }
   ],
   "source": [
    "#KNN\n",
    "from sklearn.neighbors import KNeighborsClassifier as KNN\n",
    "knn = KNN()\n",
    "knn.fit(x_train,y_train)\n",
    "predknn=knn.predict(x_test)\n",
    "cvscore=cross_val_score(KNN(),x_train,y_train,cv=5).mean()\n",
    "print(\"accuracy score=\",accuracy_score(y_test,predknn))\n",
    "print(\"confusion matrix=\",confusion_matrix(y_test,predknn))\n",
    "print(\"classification report=\",classification_report(y_test,predknn))\n",
    "print(\"cross val score=\",(cvscore*100))"
   ]
  },
  {
   "cell_type": "code",
   "execution_count": null,
   "metadata": {},
   "outputs": [],
   "source": [
    "GB = GradientBoostingClassifier()\n"
   ]
  },
  {
   "cell_type": "code",
   "execution_count": 106,
   "metadata": {},
   "outputs": [
    {
     "name": "stdout",
     "output_type": "stream",
     "text": [
      "accuracy score= 0.9859154929577465\n",
      "confusion matrix= [[17  0  0  0  0  0  0  0]\n",
      " [ 0 45  0  0  0  0  0  0]\n",
      " [ 0  0 18  0  0  0  0  0]\n",
      " [ 0  0  0 59  0  0  0  0]\n",
      " [ 0  0  0  0  2  3  0  0]\n",
      " [ 0  0  0  0  0  4  0  0]\n",
      " [ 0  0  0  0  0  0 35  0]\n",
      " [ 0  0  0  0  0  0  0 30]]\n",
      "classification report=               precision    recall  f1-score   support\n",
      "\n",
      "           0       1.00      1.00      1.00        17\n",
      "           1       1.00      1.00      1.00        45\n",
      "           2       1.00      1.00      1.00        18\n",
      "           3       1.00      1.00      1.00        59\n",
      "           4       1.00      0.40      0.57         5\n",
      "           5       0.57      1.00      0.73         4\n",
      "           6       1.00      1.00      1.00        35\n",
      "           7       1.00      1.00      1.00        30\n",
      "\n",
      "    accuracy                           0.99       213\n",
      "   macro avg       0.95      0.93      0.91       213\n",
      "weighted avg       0.99      0.99      0.98       213\n",
      "\n",
      "cross val score= 100.0\n"
     ]
    }
   ],
   "source": [
    "#GB\n",
    "from sklearn.ensemble import GradientBoostingClassifier\n",
    "gb = GradientBoostingClassifier()\n",
    "gb.fit(x_train,y_train)\n",
    "predgb=gb.predict(x_test)\n",
    "cvscore=cross_val_score(GradientBoostingClassifier(),x_train,y_train,cv=5).mean()\n",
    "print(\"accuracy score=\",accuracy_score(y_test,predgb))\n",
    "print(\"confusion matrix=\",confusion_matrix(y_test,predgb))\n",
    "print(\"classification report=\",classification_report(y_test,predgb))\n",
    "print(\"cross val score=\",(cvscore*100))"
   ]
  },
  {
   "cell_type": "code",
   "execution_count": 107,
   "metadata": {},
   "outputs": [],
   "source": [
    "#DecisionTreeClassifier gives the best accury score & cross validation score "
   ]
  },
  {
   "cell_type": "code",
   "execution_count": 108,
   "metadata": {},
   "outputs": [],
   "source": [
    "# Saving the model\n",
    "\n",
    "#saving the file\n",
    "import pickle\n",
    "filename=\"Global_power_plant_primary_fuel.pkl\"\n",
    "pickle.dump(dtc,open(filename,\"wb\"))"
   ]
  },
  {
   "cell_type": "code",
   "execution_count": null,
   "metadata": {},
   "outputs": [],
   "source": []
  }
 ],
 "metadata": {
  "kernelspec": {
   "display_name": "Python 3",
   "language": "python",
   "name": "python3"
  },
  "language_info": {
   "codemirror_mode": {
    "name": "ipython",
    "version": 3
   },
   "file_extension": ".py",
   "mimetype": "text/x-python",
   "name": "python",
   "nbconvert_exporter": "python",
   "pygments_lexer": "ipython3",
   "version": "3.8.5"
  }
 },
 "nbformat": 4,
 "nbformat_minor": 4
}
